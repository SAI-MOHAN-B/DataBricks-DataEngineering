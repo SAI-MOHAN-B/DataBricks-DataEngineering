{
 "cells": [
  {
   "cell_type": "code",
   "execution_count": 0,
   "metadata": {
    "application/vnd.databricks.v1+cell": {
     "cellMetadata": {
      "byteLimit": 2048000,
      "implicitDf": true,
      "rowLimit": 10000
     },
     "inputWidgets": {},
     "nuid": "844401c1-241d-436d-a11f-626e9d592705",
     "showTitle": false,
     "title": ""
    }
   },
   "outputs": [
    {
     "output_type": "display_data",
     "data": {
      "text/html": [
       "<style scoped>\n",
       "  .table-result-container {\n",
       "    max-height: 300px;\n",
       "    overflow: auto;\n",
       "  }\n",
       "  table, th, td {\n",
       "    border: 1px solid black;\n",
       "    border-collapse: collapse;\n",
       "  }\n",
       "  th, td {\n",
       "    padding: 5px;\n",
       "  }\n",
       "  th {\n",
       "    text-align: left;\n",
       "  }\n",
       "</style><div class='table-result-container'><table class='table-result'><thead style='background-color: white'><tr></tr></thead><tbody></tbody></table></div>"
      ]
     },
     "metadata": {
      "application/vnd.databricks.v1+output": {
       "addedWidgets": {},
       "aggData": [],
       "aggError": "",
       "aggOverflow": false,
       "aggSchema": [],
       "aggSeriesLimitReached": false,
       "aggType": "",
       "arguments": {},
       "columnCustomDisplayInfos": {},
       "data": [],
       "datasetInfos": [],
       "dbfsResultPath": null,
       "isJsonSchema": true,
       "metadata": {},
       "overflow": false,
       "plotOptions": {
        "customPlotOptions": {},
        "displayType": "table",
        "pivotAggregation": null,
        "pivotColumns": null,
        "xColumns": null,
        "yColumns": null
       },
       "removedWidgets": [],
       "schema": [],
       "type": "table"
      }
     },
     "output_type": "display_data"
    }
   ],
   "source": [
    "%sql\n",
    "create or replace table scd2demo(\n",
    "  pk1 INT,\n",
    "  pk2 STRING,\n",
    "  dim1 INT,\n",
    "  dim2 INT,\n",
    "  active_status STRING,\n",
    "  start_date TIMESTAMP,\n",
    "  end_date TIMESTAMP\n",
    ")\n",
    "using delta"
   ]
  },
  {
   "cell_type": "code",
   "execution_count": 0,
   "metadata": {
    "application/vnd.databricks.v1+cell": {
     "cellMetadata": {
      "byteLimit": 2048000,
      "implicitDf": true,
      "rowLimit": 10000
     },
     "inputWidgets": {},
     "nuid": "7603defa-58e1-4218-8483-b0c27935f948",
     "showTitle": false,
     "title": ""
    }
   },
   "outputs": [
    {
     "output_type": "display_data",
     "data": {
      "text/html": [
       "<style scoped>\n",
       "  .table-result-container {\n",
       "    max-height: 300px;\n",
       "    overflow: auto;\n",
       "  }\n",
       "  table, th, td {\n",
       "    border: 1px solid black;\n",
       "    border-collapse: collapse;\n",
       "  }\n",
       "  th, td {\n",
       "    padding: 5px;\n",
       "  }\n",
       "  th {\n",
       "    text-align: left;\n",
       "  }\n",
       "</style><div class='table-result-container'><table class='table-result'><thead style='background-color: white'><tr><th>databaseName</th></tr></thead><tbody><tr><td>default</td></tr></tbody></table></div>"
      ]
     },
     "metadata": {
      "application/vnd.databricks.v1+output": {
       "addedWidgets": {},
       "aggData": [],
       "aggError": "",
       "aggOverflow": false,
       "aggSchema": [],
       "aggSeriesLimitReached": false,
       "aggType": "",
       "arguments": {},
       "columnCustomDisplayInfos": {},
       "data": [
        [
         "default"
        ]
       ],
       "datasetInfos": [],
       "dbfsResultPath": null,
       "isJsonSchema": true,
       "metadata": {},
       "overflow": false,
       "plotOptions": {
        "customPlotOptions": {},
        "displayType": "table",
        "pivotAggregation": null,
        "pivotColumns": null,
        "xColumns": null,
        "yColumns": null
       },
       "removedWidgets": [],
       "schema": [
        {
         "metadata": "{}",
         "name": "databaseName",
         "type": "\"string\""
        }
       ],
       "type": "table"
      }
     },
     "output_type": "display_data"
    }
   ],
   "source": [
    "%sql\n",
    "show databases;"
   ]
  },
  {
   "cell_type": "code",
   "execution_count": 0,
   "metadata": {
    "application/vnd.databricks.v1+cell": {
     "cellMetadata": {
      "byteLimit": 2048000,
      "implicitDf": true,
      "rowLimit": 10000
     },
     "inputWidgets": {},
     "nuid": "149328e7-692b-4036-99dc-50a118ed8c0c",
     "showTitle": false,
     "title": ""
    }
   },
   "outputs": [
    {
     "output_type": "display_data",
     "data": {
      "text/html": [
       "<style scoped>\n",
       "  .table-result-container {\n",
       "    max-height: 300px;\n",
       "    overflow: auto;\n",
       "  }\n",
       "  table, th, td {\n",
       "    border: 1px solid black;\n",
       "    border-collapse: collapse;\n",
       "  }\n",
       "  th, td {\n",
       "    padding: 5px;\n",
       "  }\n",
       "  th {\n",
       "    text-align: left;\n",
       "  }\n",
       "</style><div class='table-result-container'><table class='table-result'><thead style='background-color: white'><tr><th>pk1</th><th>pk2</th><th>dim1</th><th>dim2</th><th>active_status</th><th>start_date</th><th>end_date</th></tr></thead><tbody><tr><td>111</td><td>Unit1</td><td>200</td><td>500</td><td>y</td><td>2022-05-15T09:55:42.211+0000</td><td>9999-12-31T09:55:42.211+0000</td></tr><tr><td>112</td><td>Unit2</td><td>210</td><td>510</td><td>y</td><td>2022-06-16T10:00:00.000+0000</td><td>9999-12-31T10:00:00.000+0000</td></tr><tr><td>112</td><td>Unit2</td><td>210</td><td>510</td><td>y</td><td>2022-06-16T10:00:00.000+0000</td><td>9999-12-31T10:00:00.000+0000</td></tr><tr><td>113</td><td>Unit3</td><td>220</td><td>520</td><td>y</td><td>2022-07-17T11:00:00.000+0000</td><td>9999-12-31T11:00:00.000+0000</td></tr><tr><td>114</td><td>Unit4</td><td>230</td><td>530</td><td>y</td><td>2022-08-18T12:00:00.000+0000</td><td>9999-12-31T12:00:00.000+0000</td></tr><tr><td>115</td><td>Unit5</td><td>240</td><td>540</td><td>y</td><td>2022-09-19T13:00:00.000+0000</td><td>9999-12-31T13:00:00.000+0000</td></tr><tr><td>116</td><td>Unit6</td><td>250</td><td>550</td><td>y</td><td>2022-10-20T14:00:00.000+0000</td><td>9999-12-31T14:00:00.000+0000</td></tr></tbody></table></div>"
      ]
     },
     "metadata": {
      "application/vnd.databricks.v1+output": {
       "addedWidgets": {},
       "aggData": [],
       "aggError": "",
       "aggOverflow": false,
       "aggSchema": [],
       "aggSeriesLimitReached": false,
       "aggType": "",
       "arguments": {},
       "columnCustomDisplayInfos": {},
       "data": [
        [
         111,
         "Unit1",
         200,
         500,
         "y",
         "2022-05-15T09:55:42.211+0000",
         "9999-12-31T09:55:42.211+0000"
        ],
        [
         112,
         "Unit2",
         210,
         510,
         "y",
         "2022-06-16T10:00:00.000+0000",
         "9999-12-31T10:00:00.000+0000"
        ],
        [
         112,
         "Unit2",
         210,
         510,
         "y",
         "2022-06-16T10:00:00.000+0000",
         "9999-12-31T10:00:00.000+0000"
        ],
        [
         113,
         "Unit3",
         220,
         520,
         "y",
         "2022-07-17T11:00:00.000+0000",
         "9999-12-31T11:00:00.000+0000"
        ],
        [
         114,
         "Unit4",
         230,
         530,
         "y",
         "2022-08-18T12:00:00.000+0000",
         "9999-12-31T12:00:00.000+0000"
        ],
        [
         115,
         "Unit5",
         240,
         540,
         "y",
         "2022-09-19T13:00:00.000+0000",
         "9999-12-31T13:00:00.000+0000"
        ],
        [
         116,
         "Unit6",
         250,
         550,
         "y",
         "2022-10-20T14:00:00.000+0000",
         "9999-12-31T14:00:00.000+0000"
        ]
       ],
       "datasetInfos": [],
       "dbfsResultPath": null,
       "isJsonSchema": true,
       "metadata": {},
       "overflow": false,
       "plotOptions": {
        "customPlotOptions": {},
        "displayType": "table",
        "pivotAggregation": null,
        "pivotColumns": null,
        "xColumns": null,
        "yColumns": null
       },
       "removedWidgets": [],
       "schema": [
        {
         "metadata": "{}",
         "name": "pk1",
         "type": "\"integer\""
        },
        {
         "metadata": "{}",
         "name": "pk2",
         "type": "\"string\""
        },
        {
         "metadata": "{}",
         "name": "dim1",
         "type": "\"integer\""
        },
        {
         "metadata": "{}",
         "name": "dim2",
         "type": "\"integer\""
        },
        {
         "metadata": "{}",
         "name": "active_status",
         "type": "\"string\""
        },
        {
         "metadata": "{}",
         "name": "start_date",
         "type": "\"timestamp\""
        },
        {
         "metadata": "{}",
         "name": "end_date",
         "type": "\"timestamp\""
        }
       ],
       "type": "table"
      }
     },
     "output_type": "display_data"
    }
   ],
   "source": [
    "%sql\n",
    "select * from scd2demo;"
   ]
  },
  {
   "cell_type": "code",
   "execution_count": 0,
   "metadata": {
    "application/vnd.databricks.v1+cell": {
     "cellMetadata": {
      "byteLimit": 2048000,
      "implicitDf": true,
      "rowLimit": 10000
     },
     "inputWidgets": {},
     "nuid": "373dd7bb-7e5c-4344-bfcf-4c9fdd3d165b",
     "showTitle": false,
     "title": ""
    }
   },
   "outputs": [
    {
     "output_type": "display_data",
     "data": {
      "text/html": [
       "<style scoped>\n",
       "  .table-result-container {\n",
       "    max-height: 300px;\n",
       "    overflow: auto;\n",
       "  }\n",
       "  table, th, td {\n",
       "    border: 1px solid black;\n",
       "    border-collapse: collapse;\n",
       "  }\n",
       "  th, td {\n",
       "    padding: 5px;\n",
       "  }\n",
       "  th {\n",
       "    text-align: left;\n",
       "  }\n",
       "</style><div class='table-result-container'><table class='table-result'><thead style='background-color: white'><tr><th>num_affected_rows</th><th>num_inserted_rows</th></tr></thead><tbody><tr><td>1</td><td>1</td></tr></tbody></table></div>"
      ]
     },
     "metadata": {
      "application/vnd.databricks.v1+output": {
       "addedWidgets": {},
       "aggData": [],
       "aggError": "",
       "aggOverflow": false,
       "aggSchema": [],
       "aggSeriesLimitReached": false,
       "aggType": "",
       "arguments": {},
       "columnCustomDisplayInfos": {},
       "data": [
        [
         1,
         1
        ]
       ],
       "datasetInfos": [],
       "dbfsResultPath": null,
       "isJsonSchema": true,
       "metadata": {},
       "overflow": false,
       "plotOptions": {
        "customPlotOptions": {},
        "displayType": "table",
        "pivotAggregation": null,
        "pivotColumns": null,
        "xColumns": null,
        "yColumns": null
       },
       "removedWidgets": [],
       "schema": [
        {
         "metadata": "{}",
         "name": "num_affected_rows",
         "type": "\"long\""
        },
        {
         "metadata": "{}",
         "name": "num_inserted_rows",
         "type": "\"long\""
        }
       ],
       "type": "table"
      }
     },
     "output_type": "display_data"
    }
   ],
   "source": [
    "%sql\n",
    "insert into scd2demo values(111,\"Unit1\",200,500,\"y\",\"2022-05-15T09:55:42.211+0000\",\"9999-12-31T09:55:42.211+0000\")"
   ]
  },
  {
   "cell_type": "code",
   "execution_count": 0,
   "metadata": {
    "application/vnd.databricks.v1+cell": {
     "cellMetadata": {
      "byteLimit": 2048000,
      "implicitDf": true,
      "rowLimit": 10000
     },
     "inputWidgets": {},
     "nuid": "f9266a2a-6cbc-4715-82ee-e63497145846",
     "showTitle": false,
     "title": ""
    }
   },
   "outputs": [
    {
     "output_type": "display_data",
     "data": {
      "text/html": [
       "<style scoped>\n",
       "  .table-result-container {\n",
       "    max-height: 300px;\n",
       "    overflow: auto;\n",
       "  }\n",
       "  table, th, td {\n",
       "    border: 1px solid black;\n",
       "    border-collapse: collapse;\n",
       "  }\n",
       "  th, td {\n",
       "    padding: 5px;\n",
       "  }\n",
       "  th {\n",
       "    text-align: left;\n",
       "  }\n",
       "</style><div class='table-result-container'><table class='table-result'><thead style='background-color: white'><tr><th>version</th><th>timestamp</th><th>userId</th><th>userName</th><th>operation</th><th>operationParameters</th><th>job</th><th>notebook</th><th>clusterId</th><th>readVersion</th><th>isolationLevel</th><th>isBlindAppend</th><th>operationMetrics</th><th>userMetadata</th><th>engineInfo</th></tr></thead><tbody><tr><td>1</td><td>2024-07-25T09:50:46.000+0000</td><td>2432472775055554</td><td>bmohan048@gmail.com</td><td>WRITE</td><td>Map(mode -> Append, partitionBy -> [])</td><td>null</td><td>List(3220512415069151)</td><td>0725-093233-unqg2b7s</td><td>0</td><td>WriteSerializable</td><td>true</td><td>Map(numFiles -> 1, numOutputRows -> 1, numOutputBytes -> 2077)</td><td>null</td><td>Databricks-Runtime/12.2.x-scala2.12</td></tr><tr><td>0</td><td>2024-07-25T09:45:27.000+0000</td><td>2432472775055554</td><td>bmohan048@gmail.com</td><td>CREATE OR REPLACE TABLE</td><td>Map(isManaged -> true, description -> null, partitionBy -> [], properties -> {})</td><td>null</td><td>List(3220512415069151)</td><td>0725-093233-unqg2b7s</td><td>null</td><td>WriteSerializable</td><td>true</td><td>Map()</td><td>null</td><td>Databricks-Runtime/12.2.x-scala2.12</td></tr></tbody></table></div>"
      ]
     },
     "metadata": {
      "application/vnd.databricks.v1+output": {
       "addedWidgets": {},
       "aggData": [],
       "aggError": "",
       "aggOverflow": false,
       "aggSchema": [],
       "aggSeriesLimitReached": false,
       "aggType": "",
       "arguments": {},
       "columnCustomDisplayInfos": {},
       "data": [
        [
         1,
         "2024-07-25T09:50:46.000+0000",
         "2432472775055554",
         "bmohan048@gmail.com",
         "WRITE",
         {
          "mode": "Append",
          "partitionBy": "[]"
         },
         null,
         [
          "3220512415069151"
         ],
         "0725-093233-unqg2b7s",
         0,
         "WriteSerializable",
         true,
         {
          "numFiles": "1",
          "numOutputBytes": "2077",
          "numOutputRows": "1"
         },
         null,
         "Databricks-Runtime/12.2.x-scala2.12"
        ],
        [
         0,
         "2024-07-25T09:45:27.000+0000",
         "2432472775055554",
         "bmohan048@gmail.com",
         "CREATE OR REPLACE TABLE",
         {
          "description": null,
          "isManaged": "true",
          "partitionBy": "[]",
          "properties": "{}"
         },
         null,
         [
          "3220512415069151"
         ],
         "0725-093233-unqg2b7s",
         null,
         "WriteSerializable",
         true,
         {},
         null,
         "Databricks-Runtime/12.2.x-scala2.12"
        ]
       ],
       "datasetInfos": [],
       "dbfsResultPath": null,
       "isJsonSchema": true,
       "metadata": {},
       "overflow": false,
       "plotOptions": {
        "customPlotOptions": {},
        "displayType": "table",
        "pivotAggregation": null,
        "pivotColumns": null,
        "xColumns": null,
        "yColumns": null
       },
       "removedWidgets": [],
       "schema": [
        {
         "metadata": "{}",
         "name": "version",
         "type": "\"long\""
        },
        {
         "metadata": "{}",
         "name": "timestamp",
         "type": "\"timestamp\""
        },
        {
         "metadata": "{}",
         "name": "userId",
         "type": "\"string\""
        },
        {
         "metadata": "{}",
         "name": "userName",
         "type": "\"string\""
        },
        {
         "metadata": "{}",
         "name": "operation",
         "type": "\"string\""
        },
        {
         "metadata": "{}",
         "name": "operationParameters",
         "type": "{\"type\":\"map\",\"keyType\":\"string\",\"valueType\":\"string\",\"valueContainsNull\":true}"
        },
        {
         "metadata": "{}",
         "name": "job",
         "type": "{\"type\":\"struct\",\"fields\":[{\"name\":\"jobId\",\"type\":\"string\",\"nullable\":true,\"metadata\":{}},{\"name\":\"jobName\",\"type\":\"string\",\"nullable\":true,\"metadata\":{}},{\"name\":\"jobRunId\",\"type\":\"string\",\"nullable\":true,\"metadata\":{}},{\"name\":\"runId\",\"type\":\"string\",\"nullable\":true,\"metadata\":{}},{\"name\":\"jobOwnerId\",\"type\":\"string\",\"nullable\":true,\"metadata\":{}},{\"name\":\"triggerType\",\"type\":\"string\",\"nullable\":true,\"metadata\":{}}]}"
        },
        {
         "metadata": "{}",
         "name": "notebook",
         "type": "{\"type\":\"struct\",\"fields\":[{\"name\":\"notebookId\",\"type\":\"string\",\"nullable\":true,\"metadata\":{}}]}"
        },
        {
         "metadata": "{}",
         "name": "clusterId",
         "type": "\"string\""
        },
        {
         "metadata": "{}",
         "name": "readVersion",
         "type": "\"long\""
        },
        {
         "metadata": "{}",
         "name": "isolationLevel",
         "type": "\"string\""
        },
        {
         "metadata": "{}",
         "name": "isBlindAppend",
         "type": "\"boolean\""
        },
        {
         "metadata": "{}",
         "name": "operationMetrics",
         "type": "{\"type\":\"map\",\"keyType\":\"string\",\"valueType\":\"string\",\"valueContainsNull\":true}"
        },
        {
         "metadata": "{}",
         "name": "userMetadata",
         "type": "\"string\""
        },
        {
         "metadata": "{}",
         "name": "engineInfo",
         "type": "\"string\""
        }
       ],
       "type": "table"
      }
     },
     "output_type": "display_data"
    }
   ],
   "source": [
    "%sql\n",
    "-- # table history\n",
    "describe history scd2demo;"
   ]
  },
  {
   "cell_type": "code",
   "execution_count": 0,
   "metadata": {
    "application/vnd.databricks.v1+cell": {
     "cellMetadata": {
      "byteLimit": 2048000,
      "implicitDf": true,
      "rowLimit": 10000
     },
     "inputWidgets": {},
     "nuid": "29489f02-7fd5-4dd4-8c0a-04e124aae62a",
     "showTitle": false,
     "title": ""
    }
   },
   "outputs": [
    {
     "output_type": "display_data",
     "data": {
      "text/html": [
       "<style scoped>\n",
       "  .table-result-container {\n",
       "    max-height: 300px;\n",
       "    overflow: auto;\n",
       "  }\n",
       "  table, th, td {\n",
       "    border: 1px solid black;\n",
       "    border-collapse: collapse;\n",
       "  }\n",
       "  th, td {\n",
       "    padding: 5px;\n",
       "  }\n",
       "  th {\n",
       "    text-align: left;\n",
       "  }\n",
       "</style><div class='table-result-container'><table class='table-result'><thead style='background-color: white'><tr><th>num_affected_rows</th><th>num_inserted_rows</th></tr></thead><tbody><tr><td>1</td><td>1</td></tr></tbody></table></div>"
      ]
     },
     "metadata": {
      "application/vnd.databricks.v1+output": {
       "addedWidgets": {},
       "aggData": [],
       "aggError": "",
       "aggOverflow": false,
       "aggSchema": [],
       "aggSeriesLimitReached": false,
       "aggType": "",
       "arguments": {},
       "columnCustomDisplayInfos": {},
       "data": [
        [
         1,
         1
        ]
       ],
       "datasetInfos": [],
       "dbfsResultPath": null,
       "isJsonSchema": true,
       "metadata": {},
       "overflow": false,
       "plotOptions": {
        "customPlotOptions": {},
        "displayType": "table",
        "pivotAggregation": null,
        "pivotColumns": null,
        "xColumns": null,
        "yColumns": null
       },
       "removedWidgets": [],
       "schema": [
        {
         "metadata": "{}",
         "name": "num_affected_rows",
         "type": "\"long\""
        },
        {
         "metadata": "{}",
         "name": "num_inserted_rows",
         "type": "\"long\""
        }
       ],
       "type": "table"
      }
     },
     "output_type": "display_data"
    }
   ],
   "source": [
    "%sql\n",
    "INSERT INTO scd2demo VALUES (112, \"Unit2\", 210, 510, \"y\", \"2022-06-16T10:00:00.000+0000\", \"9999-12-31T10:00:00.000+0000\");"
   ]
  },
  {
   "cell_type": "code",
   "execution_count": 0,
   "metadata": {
    "application/vnd.databricks.v1+cell": {
     "cellMetadata": {
      "byteLimit": 2048000,
      "implicitDf": true,
      "rowLimit": 10000
     },
     "inputWidgets": {},
     "nuid": "adee32dc-1f1b-47e8-9f96-5240e187fe28",
     "showTitle": false,
     "title": ""
    }
   },
   "outputs": [
    {
     "output_type": "display_data",
     "data": {
      "text/html": [
       "<style scoped>\n",
       "  .table-result-container {\n",
       "    max-height: 300px;\n",
       "    overflow: auto;\n",
       "  }\n",
       "  table, th, td {\n",
       "    border: 1px solid black;\n",
       "    border-collapse: collapse;\n",
       "  }\n",
       "  th, td {\n",
       "    padding: 5px;\n",
       "  }\n",
       "  th {\n",
       "    text-align: left;\n",
       "  }\n",
       "</style><div class='table-result-container'><table class='table-result'><thead style='background-color: white'><tr><th>num_affected_rows</th><th>num_inserted_rows</th></tr></thead><tbody><tr><td>1</td><td>1</td></tr></tbody></table></div>"
      ]
     },
     "metadata": {
      "application/vnd.databricks.v1+output": {
       "addedWidgets": {},
       "aggData": [],
       "aggError": "",
       "aggOverflow": false,
       "aggSchema": [],
       "aggSeriesLimitReached": false,
       "aggType": "",
       "arguments": {},
       "columnCustomDisplayInfos": {},
       "data": [
        [
         1,
         1
        ]
       ],
       "datasetInfos": [],
       "dbfsResultPath": null,
       "isJsonSchema": true,
       "metadata": {},
       "overflow": false,
       "plotOptions": {
        "customPlotOptions": {},
        "displayType": "table",
        "pivotAggregation": null,
        "pivotColumns": null,
        "xColumns": null,
        "yColumns": null
       },
       "removedWidgets": [],
       "schema": [
        {
         "metadata": "{}",
         "name": "num_affected_rows",
         "type": "\"long\""
        },
        {
         "metadata": "{}",
         "name": "num_inserted_rows",
         "type": "\"long\""
        }
       ],
       "type": "table"
      }
     },
     "output_type": "display_data"
    }
   ],
   "source": [
    "%sql\n",
    "INSERT INTO scd2demo VALUES (112, \"Unit2\", 210, 510, \"y\", \"2022-06-16T10:00:00.000+0000\", \"9999-12-31T10:00:00.000+0000\");\n",
    "INSERT INTO scd2demo VALUES (113, \"Unit3\", 220, 520, \"y\", \"2022-07-17T11:00:00.000+0000\", \"9999-12-31T11:00:00.000+0000\");\n",
    "INSERT INTO scd2demo VALUES (114, \"Unit4\", 230, 530, \"y\", \"2022-08-18T12:00:00.000+0000\", \"9999-12-31T12:00:00.000+0000\");\n",
    "INSERT INTO scd2demo VALUES (115, \"Unit5\", 240, 540, \"y\", \"2022-09-19T13:00:00.000+0000\", \"9999-12-31T13:00:00.000+0000\");\n",
    "INSERT INTO scd2demo VALUES (116, \"Unit6\", 250, 550, \"y\", \"2022-10-20T14:00:00.000+0000\", \"9999-12-31T14:00:00.000+0000\");\n"
   ]
  },
  {
   "cell_type": "code",
   "execution_count": 0,
   "metadata": {
    "application/vnd.databricks.v1+cell": {
     "cellMetadata": {
      "byteLimit": 2048000,
      "implicitDf": true,
      "rowLimit": 10000
     },
     "inputWidgets": {},
     "nuid": "ca548042-f24f-4540-bfc7-d94f638e8495",
     "showTitle": false,
     "title": ""
    }
   },
   "outputs": [
    {
     "output_type": "display_data",
     "data": {
      "text/html": [
       "<style scoped>\n",
       "  .table-result-container {\n",
       "    max-height: 300px;\n",
       "    overflow: auto;\n",
       "  }\n",
       "  table, th, td {\n",
       "    border: 1px solid black;\n",
       "    border-collapse: collapse;\n",
       "  }\n",
       "  th, td {\n",
       "    padding: 5px;\n",
       "  }\n",
       "  th {\n",
       "    text-align: left;\n",
       "  }\n",
       "</style><div class='table-result-container'><table class='table-result'><thead style='background-color: white'><tr><th>version</th><th>timestamp</th><th>userId</th><th>userName</th><th>operation</th><th>operationParameters</th><th>job</th><th>notebook</th><th>clusterId</th><th>readVersion</th><th>isolationLevel</th><th>isBlindAppend</th><th>operationMetrics</th><th>userMetadata</th><th>engineInfo</th></tr></thead><tbody><tr><td>7</td><td>2024-07-25T09:56:32.000+0000</td><td>2432472775055554</td><td>bmohan048@gmail.com</td><td>WRITE</td><td>Map(mode -> Append, partitionBy -> [])</td><td>null</td><td>List(3220512415069151)</td><td>0725-093233-unqg2b7s</td><td>6</td><td>WriteSerializable</td><td>true</td><td>Map(numFiles -> 1, numOutputRows -> 1, numOutputBytes -> 2076)</td><td>null</td><td>Databricks-Runtime/12.2.x-scala2.12</td></tr><tr><td>6</td><td>2024-07-25T09:56:25.000+0000</td><td>2432472775055554</td><td>bmohan048@gmail.com</td><td>WRITE</td><td>Map(mode -> Append, partitionBy -> [])</td><td>null</td><td>List(3220512415069151)</td><td>0725-093233-unqg2b7s</td><td>5</td><td>WriteSerializable</td><td>true</td><td>Map(numFiles -> 1, numOutputRows -> 1, numOutputBytes -> 2076)</td><td>null</td><td>Databricks-Runtime/12.2.x-scala2.12</td></tr><tr><td>5</td><td>2024-07-25T09:56:19.000+0000</td><td>2432472775055554</td><td>bmohan048@gmail.com</td><td>WRITE</td><td>Map(mode -> Append, partitionBy -> [])</td><td>null</td><td>List(3220512415069151)</td><td>0725-093233-unqg2b7s</td><td>4</td><td>WriteSerializable</td><td>true</td><td>Map(numFiles -> 1, numOutputRows -> 1, numOutputBytes -> 2077)</td><td>null</td><td>Databricks-Runtime/12.2.x-scala2.12</td></tr><tr><td>4</td><td>2024-07-25T09:56:15.000+0000</td><td>2432472775055554</td><td>bmohan048@gmail.com</td><td>WRITE</td><td>Map(mode -> Append, partitionBy -> [])</td><td>null</td><td>List(3220512415069151)</td><td>0725-093233-unqg2b7s</td><td>3</td><td>WriteSerializable</td><td>true</td><td>Map(numFiles -> 1, numOutputRows -> 1, numOutputBytes -> 2077)</td><td>null</td><td>Databricks-Runtime/12.2.x-scala2.12</td></tr><tr><td>3</td><td>2024-07-25T09:56:11.000+0000</td><td>2432472775055554</td><td>bmohan048@gmail.com</td><td>WRITE</td><td>Map(mode -> Append, partitionBy -> [])</td><td>null</td><td>List(3220512415069151)</td><td>0725-093233-unqg2b7s</td><td>2</td><td>WriteSerializable</td><td>true</td><td>Map(numFiles -> 1, numOutputRows -> 1, numOutputBytes -> 2077)</td><td>null</td><td>Databricks-Runtime/12.2.x-scala2.12</td></tr><tr><td>2</td><td>2024-07-25T09:55:59.000+0000</td><td>2432472775055554</td><td>bmohan048@gmail.com</td><td>WRITE</td><td>Map(mode -> Append, partitionBy -> [])</td><td>null</td><td>List(3220512415069151)</td><td>0725-093233-unqg2b7s</td><td>1</td><td>WriteSerializable</td><td>true</td><td>Map(numFiles -> 1, numOutputRows -> 1, numOutputBytes -> 2077)</td><td>null</td><td>Databricks-Runtime/12.2.x-scala2.12</td></tr><tr><td>1</td><td>2024-07-25T09:50:46.000+0000</td><td>2432472775055554</td><td>bmohan048@gmail.com</td><td>WRITE</td><td>Map(mode -> Append, partitionBy -> [])</td><td>null</td><td>List(3220512415069151)</td><td>0725-093233-unqg2b7s</td><td>0</td><td>WriteSerializable</td><td>true</td><td>Map(numFiles -> 1, numOutputRows -> 1, numOutputBytes -> 2077)</td><td>null</td><td>Databricks-Runtime/12.2.x-scala2.12</td></tr><tr><td>0</td><td>2024-07-25T09:45:27.000+0000</td><td>2432472775055554</td><td>bmohan048@gmail.com</td><td>CREATE OR REPLACE TABLE</td><td>Map(isManaged -> true, description -> null, partitionBy -> [], properties -> {})</td><td>null</td><td>List(3220512415069151)</td><td>0725-093233-unqg2b7s</td><td>null</td><td>WriteSerializable</td><td>true</td><td>Map()</td><td>null</td><td>Databricks-Runtime/12.2.x-scala2.12</td></tr></tbody></table></div>"
      ]
     },
     "metadata": {
      "application/vnd.databricks.v1+output": {
       "addedWidgets": {},
       "aggData": [],
       "aggError": "",
       "aggOverflow": false,
       "aggSchema": [],
       "aggSeriesLimitReached": false,
       "aggType": "",
       "arguments": {},
       "columnCustomDisplayInfos": {},
       "data": [
        [
         7,
         "2024-07-25T09:56:32.000+0000",
         "2432472775055554",
         "bmohan048@gmail.com",
         "WRITE",
         {
          "mode": "Append",
          "partitionBy": "[]"
         },
         null,
         [
          "3220512415069151"
         ],
         "0725-093233-unqg2b7s",
         6,
         "WriteSerializable",
         true,
         {
          "numFiles": "1",
          "numOutputBytes": "2076",
          "numOutputRows": "1"
         },
         null,
         "Databricks-Runtime/12.2.x-scala2.12"
        ],
        [
         6,
         "2024-07-25T09:56:25.000+0000",
         "2432472775055554",
         "bmohan048@gmail.com",
         "WRITE",
         {
          "mode": "Append",
          "partitionBy": "[]"
         },
         null,
         [
          "3220512415069151"
         ],
         "0725-093233-unqg2b7s",
         5,
         "WriteSerializable",
         true,
         {
          "numFiles": "1",
          "numOutputBytes": "2076",
          "numOutputRows": "1"
         },
         null,
         "Databricks-Runtime/12.2.x-scala2.12"
        ],
        [
         5,
         "2024-07-25T09:56:19.000+0000",
         "2432472775055554",
         "bmohan048@gmail.com",
         "WRITE",
         {
          "mode": "Append",
          "partitionBy": "[]"
         },
         null,
         [
          "3220512415069151"
         ],
         "0725-093233-unqg2b7s",
         4,
         "WriteSerializable",
         true,
         {
          "numFiles": "1",
          "numOutputBytes": "2077",
          "numOutputRows": "1"
         },
         null,
         "Databricks-Runtime/12.2.x-scala2.12"
        ],
        [
         4,
         "2024-07-25T09:56:15.000+0000",
         "2432472775055554",
         "bmohan048@gmail.com",
         "WRITE",
         {
          "mode": "Append",
          "partitionBy": "[]"
         },
         null,
         [
          "3220512415069151"
         ],
         "0725-093233-unqg2b7s",
         3,
         "WriteSerializable",
         true,
         {
          "numFiles": "1",
          "numOutputBytes": "2077",
          "numOutputRows": "1"
         },
         null,
         "Databricks-Runtime/12.2.x-scala2.12"
        ],
        [
         3,
         "2024-07-25T09:56:11.000+0000",
         "2432472775055554",
         "bmohan048@gmail.com",
         "WRITE",
         {
          "mode": "Append",
          "partitionBy": "[]"
         },
         null,
         [
          "3220512415069151"
         ],
         "0725-093233-unqg2b7s",
         2,
         "WriteSerializable",
         true,
         {
          "numFiles": "1",
          "numOutputBytes": "2077",
          "numOutputRows": "1"
         },
         null,
         "Databricks-Runtime/12.2.x-scala2.12"
        ],
        [
         2,
         "2024-07-25T09:55:59.000+0000",
         "2432472775055554",
         "bmohan048@gmail.com",
         "WRITE",
         {
          "mode": "Append",
          "partitionBy": "[]"
         },
         null,
         [
          "3220512415069151"
         ],
         "0725-093233-unqg2b7s",
         1,
         "WriteSerializable",
         true,
         {
          "numFiles": "1",
          "numOutputBytes": "2077",
          "numOutputRows": "1"
         },
         null,
         "Databricks-Runtime/12.2.x-scala2.12"
        ],
        [
         1,
         "2024-07-25T09:50:46.000+0000",
         "2432472775055554",
         "bmohan048@gmail.com",
         "WRITE",
         {
          "mode": "Append",
          "partitionBy": "[]"
         },
         null,
         [
          "3220512415069151"
         ],
         "0725-093233-unqg2b7s",
         0,
         "WriteSerializable",
         true,
         {
          "numFiles": "1",
          "numOutputBytes": "2077",
          "numOutputRows": "1"
         },
         null,
         "Databricks-Runtime/12.2.x-scala2.12"
        ],
        [
         0,
         "2024-07-25T09:45:27.000+0000",
         "2432472775055554",
         "bmohan048@gmail.com",
         "CREATE OR REPLACE TABLE",
         {
          "description": null,
          "isManaged": "true",
          "partitionBy": "[]",
          "properties": "{}"
         },
         null,
         [
          "3220512415069151"
         ],
         "0725-093233-unqg2b7s",
         null,
         "WriteSerializable",
         true,
         {},
         null,
         "Databricks-Runtime/12.2.x-scala2.12"
        ]
       ],
       "datasetInfos": [],
       "dbfsResultPath": null,
       "isJsonSchema": true,
       "metadata": {},
       "overflow": false,
       "plotOptions": {
        "customPlotOptions": {},
        "displayType": "table",
        "pivotAggregation": null,
        "pivotColumns": null,
        "xColumns": null,
        "yColumns": null
       },
       "removedWidgets": [],
       "schema": [
        {
         "metadata": "{}",
         "name": "version",
         "type": "\"long\""
        },
        {
         "metadata": "{}",
         "name": "timestamp",
         "type": "\"timestamp\""
        },
        {
         "metadata": "{}",
         "name": "userId",
         "type": "\"string\""
        },
        {
         "metadata": "{}",
         "name": "userName",
         "type": "\"string\""
        },
        {
         "metadata": "{}",
         "name": "operation",
         "type": "\"string\""
        },
        {
         "metadata": "{}",
         "name": "operationParameters",
         "type": "{\"type\":\"map\",\"keyType\":\"string\",\"valueType\":\"string\",\"valueContainsNull\":true}"
        },
        {
         "metadata": "{}",
         "name": "job",
         "type": "{\"type\":\"struct\",\"fields\":[{\"name\":\"jobId\",\"type\":\"string\",\"nullable\":true,\"metadata\":{}},{\"name\":\"jobName\",\"type\":\"string\",\"nullable\":true,\"metadata\":{}},{\"name\":\"jobRunId\",\"type\":\"string\",\"nullable\":true,\"metadata\":{}},{\"name\":\"runId\",\"type\":\"string\",\"nullable\":true,\"metadata\":{}},{\"name\":\"jobOwnerId\",\"type\":\"string\",\"nullable\":true,\"metadata\":{}},{\"name\":\"triggerType\",\"type\":\"string\",\"nullable\":true,\"metadata\":{}}]}"
        },
        {
         "metadata": "{}",
         "name": "notebook",
         "type": "{\"type\":\"struct\",\"fields\":[{\"name\":\"notebookId\",\"type\":\"string\",\"nullable\":true,\"metadata\":{}}]}"
        },
        {
         "metadata": "{}",
         "name": "clusterId",
         "type": "\"string\""
        },
        {
         "metadata": "{}",
         "name": "readVersion",
         "type": "\"long\""
        },
        {
         "metadata": "{}",
         "name": "isolationLevel",
         "type": "\"string\""
        },
        {
         "metadata": "{}",
         "name": "isBlindAppend",
         "type": "\"boolean\""
        },
        {
         "metadata": "{}",
         "name": "operationMetrics",
         "type": "{\"type\":\"map\",\"keyType\":\"string\",\"valueType\":\"string\",\"valueContainsNull\":true}"
        },
        {
         "metadata": "{}",
         "name": "userMetadata",
         "type": "\"string\""
        },
        {
         "metadata": "{}",
         "name": "engineInfo",
         "type": "\"string\""
        }
       ],
       "type": "table"
      }
     },
     "output_type": "display_data"
    }
   ],
   "source": [
    "%sql\n",
    "describe history scd2demo;"
   ]
  },
  {
   "cell_type": "code",
   "execution_count": 0,
   "metadata": {
    "application/vnd.databricks.v1+cell": {
     "cellMetadata": {
      "byteLimit": 2048000,
      "rowLimit": 10000
     },
     "inputWidgets": {},
     "nuid": "a8714774-8cfe-4c73-876a-a1a99b036dda",
     "showTitle": false,
     "title": ""
    }
   },
   "outputs": [
    {
     "output_type": "display_data",
     "data": {
      "text/html": [
       "<style scoped>\n",
       "  .table-result-container {\n",
       "    max-height: 300px;\n",
       "    overflow: auto;\n",
       "  }\n",
       "  table, th, td {\n",
       "    border: 1px solid black;\n",
       "    border-collapse: collapse;\n",
       "  }\n",
       "  th, td {\n",
       "    padding: 5px;\n",
       "  }\n",
       "  th {\n",
       "    text-align: left;\n",
       "  }\n",
       "</style><div class='table-result-container'><table class='table-result'><thead style='background-color: white'><tr><th>path</th><th>name</th><th>size</th><th>modificationTime</th></tr></thead><tbody><tr><td>dbfs:/FileStore/tables/delta/</td><td>delta/</td><td>0</td><td>0</td></tr><tr><td>dbfs:/FileStore/tables/flight-data/</td><td>flight-data/</td><td>0</td><td>0</td></tr><tr><td>dbfs:/FileStore/tables/googleplaystore.csv</td><td>googleplaystore.csv</td><td>1360155</td><td>1712040695000</td></tr><tr><td>dbfs:/FileStore/tables/menu.csv</td><td>menu.csv</td><td>98</td><td>1712311409000</td></tr><tr><td>dbfs:/FileStore/tables/menu_csv.txt</td><td>menu_csv.txt</td><td>98</td><td>1712311510000</td></tr><tr><td>dbfs:/FileStore/tables/sales_csv-1.txt</td><td>sales_csv-1.txt</td><td>3465</td><td>1712312749000</td></tr><tr><td>dbfs:/FileStore/tables/sales_csv.txt</td><td>sales_csv.txt</td><td>3465</td><td>1712311266000</td></tr></tbody></table></div>"
      ]
     },
     "metadata": {
      "application/vnd.databricks.v1+output": {
       "addedWidgets": {},
       "aggData": [],
       "aggError": "",
       "aggOverflow": false,
       "aggSchema": [],
       "aggSeriesLimitReached": false,
       "aggType": "",
       "arguments": {},
       "columnCustomDisplayInfos": {},
       "data": [
        [
         "dbfs:/FileStore/tables/delta/",
         "delta/",
         0,
         0
        ],
        [
         "dbfs:/FileStore/tables/flight-data/",
         "flight-data/",
         0,
         0
        ],
        [
         "dbfs:/FileStore/tables/googleplaystore.csv",
         "googleplaystore.csv",
         1360155,
         1712040695000
        ],
        [
         "dbfs:/FileStore/tables/menu.csv",
         "menu.csv",
         98,
         1712311409000
        ],
        [
         "dbfs:/FileStore/tables/menu_csv.txt",
         "menu_csv.txt",
         98,
         1712311510000
        ],
        [
         "dbfs:/FileStore/tables/sales_csv-1.txt",
         "sales_csv-1.txt",
         3465,
         1712312749000
        ],
        [
         "dbfs:/FileStore/tables/sales_csv.txt",
         "sales_csv.txt",
         3465,
         1712311266000
        ]
       ],
       "datasetInfos": [],
       "dbfsResultPath": null,
       "isJsonSchema": true,
       "metadata": {
        "isDbfsCommandResult": false
       },
       "overflow": false,
       "plotOptions": {
        "customPlotOptions": {},
        "displayType": "table",
        "pivotAggregation": null,
        "pivotColumns": null,
        "xColumns": null,
        "yColumns": null
       },
       "removedWidgets": [],
       "schema": [
        {
         "metadata": "{}",
         "name": "path",
         "type": "\"string\""
        },
        {
         "metadata": "{}",
         "name": "name",
         "type": "\"string\""
        },
        {
         "metadata": "{}",
         "name": "size",
         "type": "\"long\""
        },
        {
         "metadata": "{}",
         "name": "modificationTime",
         "type": "\"long\""
        }
       ],
       "type": "table"
      }
     },
     "output_type": "display_data"
    }
   ],
   "source": [
    "%fs\n",
    "ls dbfs:/FileStore/tables/"
   ]
  },
  {
   "cell_type": "code",
   "execution_count": 0,
   "metadata": {
    "application/vnd.databricks.v1+cell": {
     "cellMetadata": {
      "byteLimit": 2048000,
      "rowLimit": 10000
     },
     "inputWidgets": {},
     "nuid": "b9ae53cc-25f3-4691-99d3-2a97513bb6f2",
     "showTitle": false,
     "title": ""
    }
   },
   "outputs": [
    {
     "output_type": "display_data",
     "data": {
      "text/html": [
       "<style scoped>\n",
       "  .table-result-container {\n",
       "    max-height: 300px;\n",
       "    overflow: auto;\n",
       "  }\n",
       "  table, th, td {\n",
       "    border: 1px solid black;\n",
       "    border-collapse: collapse;\n",
       "  }\n",
       "  th, td {\n",
       "    padding: 5px;\n",
       "  }\n",
       "  th {\n",
       "    text-align: left;\n",
       "  }\n",
       "</style><div class='table-result-container'><table class='table-result'><thead style='background-color: white'><tr><th>pk1</th><th>pk2</th><th>dim1</th><th>dim2</th><th>active_status</th><th>start_date</th><th>end_date</th></tr></thead><tbody><tr><td>111</td><td>Unit1</td><td>200</td><td>500</td><td>y</td><td>2022-05-15T09:55:42.211+0000</td><td>9999-12-31T09:55:42.211+0000</td></tr></tbody></table></div>"
      ]
     },
     "metadata": {
      "application/vnd.databricks.v1+output": {
       "addedWidgets": {},
       "aggData": [],
       "aggError": "",
       "aggOverflow": false,
       "aggSchema": [],
       "aggSeriesLimitReached": false,
       "aggType": "",
       "arguments": {},
       "columnCustomDisplayInfos": {},
       "data": [
        [
         111,
         "Unit1",
         200,
         500,
         "y",
         "2022-05-15T09:55:42.211+0000",
         "9999-12-31T09:55:42.211+0000"
        ]
       ],
       "datasetInfos": [],
       "dbfsResultPath": null,
       "isJsonSchema": true,
       "metadata": {},
       "overflow": false,
       "plotOptions": {
        "customPlotOptions": {},
        "displayType": "table",
        "pivotAggregation": null,
        "pivotColumns": null,
        "xColumns": null,
        "yColumns": null
       },
       "removedWidgets": [],
       "schema": [
        {
         "metadata": "{}",
         "name": "pk1",
         "type": "\"integer\""
        },
        {
         "metadata": "{}",
         "name": "pk2",
         "type": "\"string\""
        },
        {
         "metadata": "{}",
         "name": "dim1",
         "type": "\"integer\""
        },
        {
         "metadata": "{}",
         "name": "dim2",
         "type": "\"integer\""
        },
        {
         "metadata": "{}",
         "name": "active_status",
         "type": "\"string\""
        },
        {
         "metadata": "{}",
         "name": "start_date",
         "type": "\"timestamp\""
        },
        {
         "metadata": "{}",
         "name": "end_date",
         "type": "\"timestamp\""
        }
       ],
       "type": "table"
      }
     },
     "output_type": "display_data"
    }
   ],
   "source": [
    "# Pyspark -Timestamp + table\n",
    "df = spark.read.format(\"delta\").option(\"timestampAsOf\",\"2024-07-25T09:50:46.000+00:00\").table(\"scd2demo\")\n",
    "display(df)"
   ]
  },
  {
   "cell_type": "code",
   "execution_count": 0,
   "metadata": {
    "application/vnd.databricks.v1+cell": {
     "cellMetadata": {
      "byteLimit": 2048000,
      "rowLimit": 10000
     },
     "inputWidgets": {},
     "nuid": "cf91a314-ee30-49da-909e-499215632fb9",
     "showTitle": false,
     "title": ""
    }
   },
   "outputs": [
    {
     "output_type": "display_data",
     "data": {
      "text/html": [
       "<style scoped>\n",
       "  .table-result-container {\n",
       "    max-height: 300px;\n",
       "    overflow: auto;\n",
       "  }\n",
       "  table, th, td {\n",
       "    border: 1px solid black;\n",
       "    border-collapse: collapse;\n",
       "  }\n",
       "  th, td {\n",
       "    padding: 5px;\n",
       "  }\n",
       "  th {\n",
       "    text-align: left;\n",
       "  }\n",
       "</style><div class='table-result-container'><table class='table-result'><thead style='background-color: white'><tr><th>pk1</th><th>pk2</th><th>dim1</th><th>dim2</th><th>active_status</th><th>start_date</th><th>end_date</th></tr></thead><tbody><tr><td>111</td><td>Unit1</td><td>200</td><td>500</td><td>y</td><td>2022-05-15T09:55:42.211+0000</td><td>9999-12-31T09:55:42.211+0000</td></tr><tr><td>112</td><td>Unit2</td><td>210</td><td>510</td><td>y</td><td>2022-06-16T10:00:00.000+0000</td><td>9999-12-31T10:00:00.000+0000</td></tr><tr><td>112</td><td>Unit2</td><td>210</td><td>510</td><td>y</td><td>2022-06-16T10:00:00.000+0000</td><td>9999-12-31T10:00:00.000+0000</td></tr><tr><td>113</td><td>Unit3</td><td>220</td><td>520</td><td>y</td><td>2022-07-17T11:00:00.000+0000</td><td>9999-12-31T11:00:00.000+0000</td></tr></tbody></table></div>"
      ]
     },
     "metadata": {
      "application/vnd.databricks.v1+output": {
       "addedWidgets": {},
       "aggData": [],
       "aggError": "",
       "aggOverflow": false,
       "aggSchema": [],
       "aggSeriesLimitReached": false,
       "aggType": "",
       "arguments": {},
       "columnCustomDisplayInfos": {},
       "data": [
        [
         111,
         "Unit1",
         200,
         500,
         "y",
         "2022-05-15T09:55:42.211+0000",
         "9999-12-31T09:55:42.211+0000"
        ],
        [
         112,
         "Unit2",
         210,
         510,
         "y",
         "2022-06-16T10:00:00.000+0000",
         "9999-12-31T10:00:00.000+0000"
        ],
        [
         112,
         "Unit2",
         210,
         510,
         "y",
         "2022-06-16T10:00:00.000+0000",
         "9999-12-31T10:00:00.000+0000"
        ],
        [
         113,
         "Unit3",
         220,
         520,
         "y",
         "2022-07-17T11:00:00.000+0000",
         "9999-12-31T11:00:00.000+0000"
        ]
       ],
       "datasetInfos": [],
       "dbfsResultPath": null,
       "isJsonSchema": true,
       "metadata": {},
       "overflow": false,
       "plotOptions": {
        "customPlotOptions": {},
        "displayType": "table",
        "pivotAggregation": null,
        "pivotColumns": null,
        "xColumns": null,
        "yColumns": null
       },
       "removedWidgets": [],
       "schema": [
        {
         "metadata": "{}",
         "name": "pk1",
         "type": "\"integer\""
        },
        {
         "metadata": "{}",
         "name": "pk2",
         "type": "\"string\""
        },
        {
         "metadata": "{}",
         "name": "dim1",
         "type": "\"integer\""
        },
        {
         "metadata": "{}",
         "name": "dim2",
         "type": "\"integer\""
        },
        {
         "metadata": "{}",
         "name": "active_status",
         "type": "\"string\""
        },
        {
         "metadata": "{}",
         "name": "start_date",
         "type": "\"timestamp\""
        },
        {
         "metadata": "{}",
         "name": "end_date",
         "type": "\"timestamp\""
        }
       ],
       "type": "table"
      }
     },
     "output_type": "display_data"
    }
   ],
   "source": [
    "# pyspark - version+path\n",
    "df = spark.read.format(\"delta\").option(\"versionAsOf\",4).table(\"scd2demo\")\n",
    "display(df)"
   ]
  },
  {
   "cell_type": "code",
   "execution_count": 0,
   "metadata": {
    "application/vnd.databricks.v1+cell": {
     "cellMetadata": {
      "byteLimit": 2048000,
      "implicitDf": true,
      "rowLimit": 10000
     },
     "inputWidgets": {},
     "nuid": "f21e1389-9dc4-4708-b8ab-9ae4664daee4",
     "showTitle": false,
     "title": ""
    }
   },
   "outputs": [
    {
     "output_type": "display_data",
     "data": {
      "text/html": [
       "<style scoped>\n",
       "  .table-result-container {\n",
       "    max-height: 300px;\n",
       "    overflow: auto;\n",
       "  }\n",
       "  table, th, td {\n",
       "    border: 1px solid black;\n",
       "    border-collapse: collapse;\n",
       "  }\n",
       "  th, td {\n",
       "    padding: 5px;\n",
       "  }\n",
       "  th {\n",
       "    text-align: left;\n",
       "  }\n",
       "</style><div class='table-result-container'><table class='table-result'><thead style='background-color: white'><tr><th>pk1</th><th>pk2</th><th>dim1</th><th>dim2</th><th>active_status</th><th>start_date</th><th>end_date</th></tr></thead><tbody><tr><td>111</td><td>Unit1</td><td>200</td><td>500</td><td>y</td><td>2022-05-15T09:55:42.211+0000</td><td>9999-12-31T09:55:42.211+0000</td></tr><tr><td>112</td><td>Unit2</td><td>210</td><td>510</td><td>y</td><td>2022-06-16T10:00:00.000+0000</td><td>9999-12-31T10:00:00.000+0000</td></tr><tr><td>112</td><td>Unit2</td><td>210</td><td>510</td><td>y</td><td>2022-06-16T10:00:00.000+0000</td><td>9999-12-31T10:00:00.000+0000</td></tr><tr><td>113</td><td>Unit3</td><td>220</td><td>520</td><td>y</td><td>2022-07-17T11:00:00.000+0000</td><td>9999-12-31T11:00:00.000+0000</td></tr></tbody></table></div>"
      ]
     },
     "metadata": {
      "application/vnd.databricks.v1+output": {
       "addedWidgets": {},
       "aggData": [],
       "aggError": "",
       "aggOverflow": false,
       "aggSchema": [],
       "aggSeriesLimitReached": false,
       "aggType": "",
       "arguments": {},
       "columnCustomDisplayInfos": {},
       "data": [
        [
         111,
         "Unit1",
         200,
         500,
         "y",
         "2022-05-15T09:55:42.211+0000",
         "9999-12-31T09:55:42.211+0000"
        ],
        [
         112,
         "Unit2",
         210,
         510,
         "y",
         "2022-06-16T10:00:00.000+0000",
         "9999-12-31T10:00:00.000+0000"
        ],
        [
         112,
         "Unit2",
         210,
         510,
         "y",
         "2022-06-16T10:00:00.000+0000",
         "9999-12-31T10:00:00.000+0000"
        ],
        [
         113,
         "Unit3",
         220,
         520,
         "y",
         "2022-07-17T11:00:00.000+0000",
         "9999-12-31T11:00:00.000+0000"
        ]
       ],
       "datasetInfos": [],
       "dbfsResultPath": null,
       "isJsonSchema": true,
       "metadata": {},
       "overflow": false,
       "plotOptions": {
        "customPlotOptions": {},
        "displayType": "table",
        "pivotAggregation": null,
        "pivotColumns": null,
        "xColumns": null,
        "yColumns": null
       },
       "removedWidgets": [],
       "schema": [
        {
         "metadata": "{}",
         "name": "pk1",
         "type": "\"integer\""
        },
        {
         "metadata": "{}",
         "name": "pk2",
         "type": "\"string\""
        },
        {
         "metadata": "{}",
         "name": "dim1",
         "type": "\"integer\""
        },
        {
         "metadata": "{}",
         "name": "dim2",
         "type": "\"integer\""
        },
        {
         "metadata": "{}",
         "name": "active_status",
         "type": "\"string\""
        },
        {
         "metadata": "{}",
         "name": "start_date",
         "type": "\"timestamp\""
        },
        {
         "metadata": "{}",
         "name": "end_date",
         "type": "\"timestamp\""
        }
       ],
       "type": "table"
      }
     },
     "output_type": "display_data"
    }
   ],
   "source": [
    "%sql\n",
    "-- SQL VERSION + TABLE\n",
    "select * from scd2demo version as of 4"
   ]
  },
  {
   "cell_type": "code",
   "execution_count": 0,
   "metadata": {
    "application/vnd.databricks.v1+cell": {
     "cellMetadata": {
      "byteLimit": 2048000,
      "implicitDf": true,
      "rowLimit": 10000
     },
     "inputWidgets": {},
     "nuid": "cfaf010d-9ec9-47ec-8c3c-943bee2f7fcd",
     "showTitle": false,
     "title": ""
    }
   },
   "outputs": [
    {
     "output_type": "display_data",
     "data": {
      "text/html": [
       "<style scoped>\n",
       "  .table-result-container {\n",
       "    max-height: 300px;\n",
       "    overflow: auto;\n",
       "  }\n",
       "  table, th, td {\n",
       "    border: 1px solid black;\n",
       "    border-collapse: collapse;\n",
       "  }\n",
       "  th, td {\n",
       "    padding: 5px;\n",
       "  }\n",
       "  th {\n",
       "    text-align: left;\n",
       "  }\n",
       "</style><div class='table-result-container'><table class='table-result'><thead style='background-color: white'><tr><th>pk1</th><th>pk2</th><th>dim1</th><th>dim2</th><th>active_status</th><th>start_date</th><th>end_date</th></tr></thead><tbody><tr><td>111</td><td>Unit1</td><td>200</td><td>500</td><td>y</td><td>2022-05-15T09:55:42.211+0000</td><td>9999-12-31T09:55:42.211+0000</td></tr><tr><td>112</td><td>Unit2</td><td>210</td><td>510</td><td>y</td><td>2022-06-16T10:00:00.000+0000</td><td>9999-12-31T10:00:00.000+0000</td></tr><tr><td>112</td><td>Unit2</td><td>210</td><td>510</td><td>y</td><td>2022-06-16T10:00:00.000+0000</td><td>9999-12-31T10:00:00.000+0000</td></tr><tr><td>113</td><td>Unit3</td><td>220</td><td>520</td><td>y</td><td>2022-07-17T11:00:00.000+0000</td><td>9999-12-31T11:00:00.000+0000</td></tr></tbody></table></div>"
      ]
     },
     "metadata": {
      "application/vnd.databricks.v1+output": {
       "addedWidgets": {},
       "aggData": [],
       "aggError": "",
       "aggOverflow": false,
       "aggSchema": [],
       "aggSeriesLimitReached": false,
       "aggType": "",
       "arguments": {},
       "columnCustomDisplayInfos": {},
       "data": [
        [
         111,
         "Unit1",
         200,
         500,
         "y",
         "2022-05-15T09:55:42.211+0000",
         "9999-12-31T09:55:42.211+0000"
        ],
        [
         112,
         "Unit2",
         210,
         510,
         "y",
         "2022-06-16T10:00:00.000+0000",
         "9999-12-31T10:00:00.000+0000"
        ],
        [
         112,
         "Unit2",
         210,
         510,
         "y",
         "2022-06-16T10:00:00.000+0000",
         "9999-12-31T10:00:00.000+0000"
        ],
        [
         113,
         "Unit3",
         220,
         520,
         "y",
         "2022-07-17T11:00:00.000+0000",
         "9999-12-31T11:00:00.000+0000"
        ]
       ],
       "datasetInfos": [],
       "dbfsResultPath": null,
       "isJsonSchema": true,
       "metadata": {},
       "overflow": false,
       "plotOptions": {
        "customPlotOptions": {},
        "displayType": "table",
        "pivotAggregation": null,
        "pivotColumns": null,
        "xColumns": null,
        "yColumns": null
       },
       "removedWidgets": [],
       "schema": [
        {
         "metadata": "{}",
         "name": "pk1",
         "type": "\"integer\""
        },
        {
         "metadata": "{}",
         "name": "pk2",
         "type": "\"string\""
        },
        {
         "metadata": "{}",
         "name": "dim1",
         "type": "\"integer\""
        },
        {
         "metadata": "{}",
         "name": "dim2",
         "type": "\"integer\""
        },
        {
         "metadata": "{}",
         "name": "active_status",
         "type": "\"string\""
        },
        {
         "metadata": "{}",
         "name": "start_date",
         "type": "\"timestamp\""
        },
        {
         "metadata": "{}",
         "name": "end_date",
         "type": "\"timestamp\""
        }
       ],
       "type": "table"
      }
     },
     "output_type": "display_data"
    }
   ],
   "source": [
    "%sql\n",
    "-- SQL TIMESTAMP+TABLE\n",
    "select * from scd2demo TIMESTAMP AS OF \"2024-07-25T09:56:15.000+00:00\""
   ]
  },
  {
   "cell_type": "code",
   "execution_count": 0,
   "metadata": {
    "application/vnd.databricks.v1+cell": {
     "cellMetadata": {},
     "inputWidgets": {},
     "nuid": "694ac5c9-0373-4130-8ed8-79002f260648",
     "showTitle": false,
     "title": ""
    }
   },
   "outputs": [],
   "source": []
  }
 ],
 "metadata": {
  "application/vnd.databricks.v1+notebook": {
   "dashboards": [],
   "environmentMetadata": null,
   "language": "python",
   "notebookMetadata": {
    "mostRecentlyExecutedCommandWithImplicitDF": {
     "commandId": 3220512415069164,
     "dataframes": [
      "_sqldf"
     ]
    },
    "pythonIndentUnit": 4
   },
   "notebookName": "Delta Time Travel",
   "widgets": {}
  }
 },
 "nbformat": 4,
 "nbformat_minor": 0
}
