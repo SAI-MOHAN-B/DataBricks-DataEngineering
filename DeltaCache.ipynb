{
 "cells": [
  {
   "cell_type": "code",
   "execution_count": 0,
   "metadata": {
    "application/vnd.databricks.v1+cell": {
     "cellMetadata": {
      "byteLimit": 2048000,
      "rowLimit": 10000
     },
     "inputWidgets": {},
     "nuid": "9d060287-ed67-434b-92a8-c723c9be1fa8",
     "showTitle": false,
     "title": ""
    }
   },
   "outputs": [],
   "source": [
    "import pyspark"
   ]
  },
  {
   "cell_type": "code",
   "execution_count": 0,
   "metadata": {
    "application/vnd.databricks.v1+cell": {
     "cellMetadata": {
      "byteLimit": 2048000,
      "rowLimit": 10000
     },
     "inputWidgets": {},
     "nuid": "144f0dd4-39fe-40c3-b038-422b4ed522b3",
     "showTitle": false,
     "title": ""
    }
   },
   "outputs": [],
   "source": [
    "from pyspark.sql import SparkSession"
   ]
  },
  {
   "cell_type": "code",
   "execution_count": 0,
   "metadata": {
    "application/vnd.databricks.v1+cell": {
     "cellMetadata": {
      "byteLimit": 2048000,
      "rowLimit": 10000
     },
     "inputWidgets": {},
     "nuid": "fd96b1b1-27b1-4b8a-938b-a8981e281192",
     "showTitle": false,
     "title": ""
    }
   },
   "outputs": [],
   "source": [
    "from pyspark.sql.types import StructType,StructField,StringType,IntegerType"
   ]
  },
  {
   "cell_type": "code",
   "execution_count": 0,
   "metadata": {
    "application/vnd.databricks.v1+cell": {
     "cellMetadata": {
      "byteLimit": 2048000,
      "rowLimit": 10000
     },
     "inputWidgets": {},
     "nuid": "b58c3921-3a8b-4e48-af12-4d9c98e336e6",
     "showTitle": false,
     "title": ""
    }
   },
   "outputs": [],
   "source": [
    "# RecordNumber,Country,City,Zipcode,State,1,US,PARC PARQUE,704,PR\n",
    "\n",
    "csvSchema = StructType([StructField(\"RecordNumber\",IntegerType(),True),StructField(\"Country\",StringType(),True),StructField(\"City\",StringType(),True),StructField(\"ZipCode\",IntegerType(),True),StructField(\"State\",StringType(),True)])"
   ]
  },
  {
   "cell_type": "code",
   "execution_count": 0,
   "metadata": {
    "application/vnd.databricks.v1+cell": {
     "cellMetadata": {
      "byteLimit": 2048000,
      "rowLimit": 10000
     },
     "inputWidgets": {},
     "nuid": "4dcc35b4-79b4-4a94-a8c9-423dd7a1162f",
     "showTitle": false,
     "title": ""
    }
   },
   "outputs": [],
   "source": [
    "df = spark.read.format(\"csv\").option(\"header\",True).schema(csvSchema).load(\"dbfs:/FileStore/simple_zipcodes.csv\")"
   ]
  },
  {
   "cell_type": "code",
   "execution_count": 0,
   "metadata": {
    "application/vnd.databricks.v1+cell": {
     "cellMetadata": {
      "byteLimit": 2048000,
      "rowLimit": 10000
     },
     "inputWidgets": {},
     "nuid": "8719a6e8-c26e-4af8-b99b-5a775ca23d44",
     "showTitle": false,
     "title": ""
    }
   },
   "outputs": [
    {
     "output_type": "display_data",
     "data": {
      "text/html": [
       "<style scoped>\n",
       "  .table-result-container {\n",
       "    max-height: 300px;\n",
       "    overflow: auto;\n",
       "  }\n",
       "  table, th, td {\n",
       "    border: 1px solid black;\n",
       "    border-collapse: collapse;\n",
       "  }\n",
       "  th, td {\n",
       "    padding: 5px;\n",
       "  }\n",
       "  th {\n",
       "    text-align: left;\n",
       "  }\n",
       "</style><div class='table-result-container'><table class='table-result'><thead style='background-color: white'><tr><th>RecordNumber</th><th>Country</th><th>City</th><th>ZipCode</th><th>State</th></tr></thead><tbody><tr><td>1</td><td>US</td><td>PARC PARQUE</td><td>704</td><td>PR</td></tr><tr><td>2</td><td>US</td><td>PASEO COSTA DEL SUR</td><td>704</td><td>PR</td></tr><tr><td>10</td><td>US</td><td>BDA SAN LUIS</td><td>709</td><td>PR</td></tr><tr><td>49347</td><td>US</td><td>HOLT</td><td>32564</td><td>FL</td></tr><tr><td>49348</td><td>US</td><td>HOMOSASSA</td><td>34487</td><td>FL</td></tr><tr><td>61391</td><td>US</td><td>CINGULAR WIRELESS</td><td>76166</td><td>TX</td></tr><tr><td>61392</td><td>US</td><td>FORT WORTH</td><td>76177</td><td>TX</td></tr><tr><td>61393</td><td>US</td><td>FT WORTH</td><td>76177</td><td>TX</td></tr><tr><td>54356</td><td>US</td><td>SPRUCE PINE</td><td>35585</td><td>AL</td></tr><tr><td>76511</td><td>US</td><td>ASH HILL</td><td>27007</td><td>NC</td></tr><tr><td>4</td><td>US</td><td>URB EUGENE RICE</td><td>704</td><td>PR</td></tr><tr><td>39827</td><td>US</td><td>MESA</td><td>85209</td><td>AZ</td></tr><tr><td>39828</td><td>US</td><td>MESA</td><td>85210</td><td>AZ</td></tr><tr><td>49345</td><td>US</td><td>HILLIARD</td><td>32046</td><td>FL</td></tr><tr><td>49346</td><td>US</td><td>HOLDER</td><td>34445</td><td>FL</td></tr><tr><td>3</td><td>US</td><td>SECT LANAUSSE</td><td>704</td><td>PR</td></tr><tr><td>54354</td><td>US</td><td>SPRING GARDEN</td><td>36275</td><td>AL</td></tr><tr><td>54355</td><td>US</td><td>SPRINGVILLE</td><td>35146</td><td>AL</td></tr><tr><td>76512</td><td>US</td><td>ASHEBORO</td><td>27203</td><td>NC</td></tr><tr><td>76513</td><td>US</td><td>ASHEBORO</td><td>27204</td><td>NC</td></tr></tbody></table></div>"
      ]
     },
     "metadata": {
      "application/vnd.databricks.v1+output": {
       "addedWidgets": {},
       "aggData": [],
       "aggError": "",
       "aggOverflow": false,
       "aggSchema": [],
       "aggSeriesLimitReached": false,
       "aggType": "",
       "arguments": {},
       "columnCustomDisplayInfos": {},
       "data": [
        [
         1,
         "US",
         "PARC PARQUE",
         704,
         "PR"
        ],
        [
         2,
         "US",
         "PASEO COSTA DEL SUR",
         704,
         "PR"
        ],
        [
         10,
         "US",
         "BDA SAN LUIS",
         709,
         "PR"
        ],
        [
         49347,
         "US",
         "HOLT",
         32564,
         "FL"
        ],
        [
         49348,
         "US",
         "HOMOSASSA",
         34487,
         "FL"
        ],
        [
         61391,
         "US",
         "CINGULAR WIRELESS",
         76166,
         "TX"
        ],
        [
         61392,
         "US",
         "FORT WORTH",
         76177,
         "TX"
        ],
        [
         61393,
         "US",
         "FT WORTH",
         76177,
         "TX"
        ],
        [
         54356,
         "US",
         "SPRUCE PINE",
         35585,
         "AL"
        ],
        [
         76511,
         "US",
         "ASH HILL",
         27007,
         "NC"
        ],
        [
         4,
         "US",
         "URB EUGENE RICE",
         704,
         "PR"
        ],
        [
         39827,
         "US",
         "MESA",
         85209,
         "AZ"
        ],
        [
         39828,
         "US",
         "MESA",
         85210,
         "AZ"
        ],
        [
         49345,
         "US",
         "HILLIARD",
         32046,
         "FL"
        ],
        [
         49346,
         "US",
         "HOLDER",
         34445,
         "FL"
        ],
        [
         3,
         "US",
         "SECT LANAUSSE",
         704,
         "PR"
        ],
        [
         54354,
         "US",
         "SPRING GARDEN",
         36275,
         "AL"
        ],
        [
         54355,
         "US",
         "SPRINGVILLE",
         35146,
         "AL"
        ],
        [
         76512,
         "US",
         "ASHEBORO",
         27203,
         "NC"
        ],
        [
         76513,
         "US",
         "ASHEBORO",
         27204,
         "NC"
        ]
       ],
       "datasetInfos": [],
       "dbfsResultPath": null,
       "isJsonSchema": true,
       "metadata": {},
       "overflow": false,
       "plotOptions": {
        "customPlotOptions": {},
        "displayType": "table",
        "pivotAggregation": null,
        "pivotColumns": null,
        "xColumns": null,
        "yColumns": null
       },
       "removedWidgets": [],
       "schema": [
        {
         "metadata": "{}",
         "name": "RecordNumber",
         "type": "\"integer\""
        },
        {
         "metadata": "{}",
         "name": "Country",
         "type": "\"string\""
        },
        {
         "metadata": "{}",
         "name": "City",
         "type": "\"string\""
        },
        {
         "metadata": "{}",
         "name": "ZipCode",
         "type": "\"integer\""
        },
        {
         "metadata": "{}",
         "name": "State",
         "type": "\"string\""
        }
       ],
       "type": "table"
      }
     },
     "output_type": "display_data"
    }
   ],
   "source": [
    "display(df)"
   ]
  },
  {
   "cell_type": "code",
   "execution_count": 0,
   "metadata": {
    "application/vnd.databricks.v1+cell": {
     "cellMetadata": {
      "byteLimit": 2048000,
      "rowLimit": 10000
     },
     "inputWidgets": {},
     "nuid": "0870d4f4-d9e9-42dd-9f89-d20a20ac48ad",
     "showTitle": false,
     "title": ""
    }
   },
   "outputs": [],
   "source": [
    "# create delta table\n",
    "df.write.format(\"delta\").saveAsTable(\"zipcodes\")"
   ]
  },
  {
   "cell_type": "code",
   "execution_count": 0,
   "metadata": {
    "application/vnd.databricks.v1+cell": {
     "cellMetadata": {
      "byteLimit": 2048000,
      "rowLimit": 10000
     },
     "inputWidgets": {},
     "nuid": "2ca7c7e7-3288-44f3-9520-78b075467bb5",
     "showTitle": false,
     "title": ""
    }
   },
   "outputs": [],
   "source": [
    "# enable delta cache\n",
    "spark.conf.set(\"spark.databricks.io.cache.enabled\",\"true\")"
   ]
  },
  {
   "cell_type": "code",
   "execution_count": 0,
   "metadata": {
    "application/vnd.databricks.v1+cell": {
     "cellMetadata": {
      "byteLimit": 2048000,
      "implicitDf": true,
      "rowLimit": 10000
     },
     "inputWidgets": {},
     "nuid": "104db8f7-fcbe-4f10-be4e-6e7689425976",
     "showTitle": false,
     "title": ""
    }
   },
   "outputs": [
    {
     "output_type": "display_data",
     "data": {
      "text/html": [
       "<style scoped>\n",
       "  .table-result-container {\n",
       "    max-height: 300px;\n",
       "    overflow: auto;\n",
       "  }\n",
       "  table, th, td {\n",
       "    border: 1px solid black;\n",
       "    border-collapse: collapse;\n",
       "  }\n",
       "  th, td {\n",
       "    padding: 5px;\n",
       "  }\n",
       "  th {\n",
       "    text-align: left;\n",
       "  }\n",
       "</style><div class='table-result-container'><table class='table-result'><thead style='background-color: white'><tr><th>RecordNumber</th><th>Country</th><th>City</th><th>ZipCode</th><th>State</th></tr></thead><tbody><tr><td>1</td><td>US</td><td>PARC PARQUE</td><td>704</td><td>PR</td></tr><tr><td>2</td><td>US</td><td>PASEO COSTA DEL SUR</td><td>704</td><td>PR</td></tr><tr><td>10</td><td>US</td><td>BDA SAN LUIS</td><td>709</td><td>PR</td></tr><tr><td>49347</td><td>US</td><td>HOLT</td><td>32564</td><td>FL</td></tr><tr><td>49348</td><td>US</td><td>HOMOSASSA</td><td>34487</td><td>FL</td></tr><tr><td>61391</td><td>US</td><td>CINGULAR WIRELESS</td><td>76166</td><td>TX</td></tr><tr><td>61392</td><td>US</td><td>FORT WORTH</td><td>76177</td><td>TX</td></tr><tr><td>61393</td><td>US</td><td>FT WORTH</td><td>76177</td><td>TX</td></tr><tr><td>54356</td><td>US</td><td>SPRUCE PINE</td><td>35585</td><td>AL</td></tr><tr><td>76511</td><td>US</td><td>ASH HILL</td><td>27007</td><td>NC</td></tr><tr><td>4</td><td>US</td><td>URB EUGENE RICE</td><td>704</td><td>PR</td></tr><tr><td>39827</td><td>US</td><td>MESA</td><td>85209</td><td>AZ</td></tr><tr><td>39828</td><td>US</td><td>MESA</td><td>85210</td><td>AZ</td></tr><tr><td>49345</td><td>US</td><td>HILLIARD</td><td>32046</td><td>FL</td></tr><tr><td>49346</td><td>US</td><td>HOLDER</td><td>34445</td><td>FL</td></tr><tr><td>3</td><td>US</td><td>SECT LANAUSSE</td><td>704</td><td>PR</td></tr><tr><td>54354</td><td>US</td><td>SPRING GARDEN</td><td>36275</td><td>AL</td></tr><tr><td>54355</td><td>US</td><td>SPRINGVILLE</td><td>35146</td><td>AL</td></tr><tr><td>76512</td><td>US</td><td>ASHEBORO</td><td>27203</td><td>NC</td></tr><tr><td>76513</td><td>US</td><td>ASHEBORO</td><td>27204</td><td>NC</td></tr></tbody></table></div>"
      ]
     },
     "metadata": {
      "application/vnd.databricks.v1+output": {
       "addedWidgets": {},
       "aggData": [],
       "aggError": "",
       "aggOverflow": false,
       "aggSchema": [],
       "aggSeriesLimitReached": false,
       "aggType": "",
       "arguments": {},
       "columnCustomDisplayInfos": {},
       "data": [
        [
         1,
         "US",
         "PARC PARQUE",
         704,
         "PR"
        ],
        [
         2,
         "US",
         "PASEO COSTA DEL SUR",
         704,
         "PR"
        ],
        [
         10,
         "US",
         "BDA SAN LUIS",
         709,
         "PR"
        ],
        [
         49347,
         "US",
         "HOLT",
         32564,
         "FL"
        ],
        [
         49348,
         "US",
         "HOMOSASSA",
         34487,
         "FL"
        ],
        [
         61391,
         "US",
         "CINGULAR WIRELESS",
         76166,
         "TX"
        ],
        [
         61392,
         "US",
         "FORT WORTH",
         76177,
         "TX"
        ],
        [
         61393,
         "US",
         "FT WORTH",
         76177,
         "TX"
        ],
        [
         54356,
         "US",
         "SPRUCE PINE",
         35585,
         "AL"
        ],
        [
         76511,
         "US",
         "ASH HILL",
         27007,
         "NC"
        ],
        [
         4,
         "US",
         "URB EUGENE RICE",
         704,
         "PR"
        ],
        [
         39827,
         "US",
         "MESA",
         85209,
         "AZ"
        ],
        [
         39828,
         "US",
         "MESA",
         85210,
         "AZ"
        ],
        [
         49345,
         "US",
         "HILLIARD",
         32046,
         "FL"
        ],
        [
         49346,
         "US",
         "HOLDER",
         34445,
         "FL"
        ],
        [
         3,
         "US",
         "SECT LANAUSSE",
         704,
         "PR"
        ],
        [
         54354,
         "US",
         "SPRING GARDEN",
         36275,
         "AL"
        ],
        [
         54355,
         "US",
         "SPRINGVILLE",
         35146,
         "AL"
        ],
        [
         76512,
         "US",
         "ASHEBORO",
         27203,
         "NC"
        ],
        [
         76513,
         "US",
         "ASHEBORO",
         27204,
         "NC"
        ]
       ],
       "datasetInfos": [],
       "dbfsResultPath": null,
       "isJsonSchema": true,
       "metadata": {},
       "overflow": false,
       "plotOptions": {
        "customPlotOptions": {},
        "displayType": "table",
        "pivotAggregation": null,
        "pivotColumns": null,
        "xColumns": null,
        "yColumns": null
       },
       "removedWidgets": [],
       "schema": [
        {
         "metadata": "{}",
         "name": "RecordNumber",
         "type": "\"integer\""
        },
        {
         "metadata": "{}",
         "name": "Country",
         "type": "\"string\""
        },
        {
         "metadata": "{}",
         "name": "City",
         "type": "\"string\""
        },
        {
         "metadata": "{}",
         "name": "ZipCode",
         "type": "\"integer\""
        },
        {
         "metadata": "{}",
         "name": "State",
         "type": "\"string\""
        }
       ],
       "type": "table"
      }
     },
     "output_type": "display_data"
    }
   ],
   "source": [
    "%sql\n",
    "-- select comes from DBFS\n",
    "select * from zipcodes;"
   ]
  },
  {
   "cell_type": "code",
   "execution_count": 0,
   "metadata": {
    "application/vnd.databricks.v1+cell": {
     "cellMetadata": {
      "byteLimit": 2048000,
      "implicitDf": true,
      "rowLimit": 10000
     },
     "inputWidgets": {},
     "nuid": "358af00e-306d-479a-9212-a3d292edd81b",
     "showTitle": false,
     "title": ""
    }
   },
   "outputs": [
    {
     "output_type": "display_data",
     "data": {
      "text/html": [
       "<style scoped>\n",
       "  .table-result-container {\n",
       "    max-height: 300px;\n",
       "    overflow: auto;\n",
       "  }\n",
       "  table, th, td {\n",
       "    border: 1px solid black;\n",
       "    border-collapse: collapse;\n",
       "  }\n",
       "  th, td {\n",
       "    padding: 5px;\n",
       "  }\n",
       "  th {\n",
       "    text-align: left;\n",
       "  }\n",
       "</style><div class='table-result-container'><table class='table-result'><thead style='background-color: white'><tr></tr></thead><tbody></tbody></table></div>"
      ]
     },
     "metadata": {
      "application/vnd.databricks.v1+output": {
       "addedWidgets": {},
       "aggData": [],
       "aggError": "",
       "aggOverflow": false,
       "aggSchema": [],
       "aggSeriesLimitReached": false,
       "aggType": "",
       "arguments": {},
       "columnCustomDisplayInfos": {},
       "data": [],
       "datasetInfos": [],
       "dbfsResultPath": null,
       "isJsonSchema": true,
       "metadata": {},
       "overflow": false,
       "plotOptions": {
        "customPlotOptions": {},
        "displayType": "table",
        "pivotAggregation": null,
        "pivotColumns": null,
        "xColumns": null,
        "yColumns": null
       },
       "removedWidgets": [],
       "schema": [],
       "type": "table"
      }
     },
     "output_type": "display_data"
    }
   ],
   "source": [
    "%sql\n",
    "-- preload and cache Entire Delta Table into LocalDisk\n",
    "CACHE select * FROM zipcodes"
   ]
  },
  {
   "cell_type": "code",
   "execution_count": 0,
   "metadata": {
    "application/vnd.databricks.v1+cell": {
     "cellMetadata": {
      "byteLimit": 2048000,
      "implicitDf": true,
      "rowLimit": 10000
     },
     "inputWidgets": {},
     "nuid": "52ec2a3d-89a9-4d6e-adeb-af4eb762c3d0",
     "showTitle": false,
     "title": ""
    }
   },
   "outputs": [
    {
     "output_type": "display_data",
     "data": {
      "text/html": [
       "<style scoped>\n",
       "  .table-result-container {\n",
       "    max-height: 300px;\n",
       "    overflow: auto;\n",
       "  }\n",
       "  table, th, td {\n",
       "    border: 1px solid black;\n",
       "    border-collapse: collapse;\n",
       "  }\n",
       "  th, td {\n",
       "    padding: 5px;\n",
       "  }\n",
       "  th {\n",
       "    text-align: left;\n",
       "  }\n",
       "</style><div class='table-result-container'><table class='table-result'><thead style='background-color: white'><tr><th>RecordNumber</th><th>Country</th><th>City</th><th>ZipCode</th><th>State</th></tr></thead><tbody><tr><td>61391</td><td>US</td><td>CINGULAR WIRELESS</td><td>76166</td><td>TX</td></tr><tr><td>61392</td><td>US</td><td>FORT WORTH</td><td>76177</td><td>TX</td></tr><tr><td>61393</td><td>US</td><td>FT WORTH</td><td>76177</td><td>TX</td></tr></tbody></table></div>"
      ]
     },
     "metadata": {
      "application/vnd.databricks.v1+output": {
       "addedWidgets": {},
       "aggData": [],
       "aggError": "",
       "aggOverflow": false,
       "aggSchema": [],
       "aggSeriesLimitReached": false,
       "aggType": "",
       "arguments": {},
       "columnCustomDisplayInfos": {},
       "data": [
        [
         61391,
         "US",
         "CINGULAR WIRELESS",
         76166,
         "TX"
        ],
        [
         61392,
         "US",
         "FORT WORTH",
         76177,
         "TX"
        ],
        [
         61393,
         "US",
         "FT WORTH",
         76177,
         "TX"
        ]
       ],
       "datasetInfos": [],
       "dbfsResultPath": null,
       "isJsonSchema": true,
       "metadata": {},
       "overflow": false,
       "plotOptions": {
        "customPlotOptions": {},
        "displayType": "table",
        "pivotAggregation": null,
        "pivotColumns": null,
        "xColumns": null,
        "yColumns": null
       },
       "removedWidgets": [],
       "schema": [
        {
         "metadata": "{}",
         "name": "RecordNumber",
         "type": "\"integer\""
        },
        {
         "metadata": "{}",
         "name": "Country",
         "type": "\"string\""
        },
        {
         "metadata": "{}",
         "name": "City",
         "type": "\"string\""
        },
        {
         "metadata": "{}",
         "name": "ZipCode",
         "type": "\"integer\""
        },
        {
         "metadata": "{}",
         "name": "State",
         "type": "\"string\""
        }
       ],
       "type": "table"
      }
     },
     "output_type": "display_data"
    }
   ],
   "source": [
    "%sql\n",
    "select * from zipcodes where state = 'TX'"
   ]
  },
  {
   "cell_type": "code",
   "execution_count": 0,
   "metadata": {
    "application/vnd.databricks.v1+cell": {
     "cellMetadata": {},
     "inputWidgets": {},
     "nuid": "505d500f-edfb-4439-af88-96310cb9713b",
     "showTitle": false,
     "title": ""
    }
   },
   "outputs": [],
   "source": []
  }
 ],
 "metadata": {
  "application/vnd.databricks.v1+notebook": {
   "dashboards": [],
   "environmentMetadata": null,
   "language": "python",
   "notebookMetadata": {
    "mostRecentlyExecutedCommandWithImplicitDF": {
     "commandId": 4378546197493193,
     "dataframes": [
      "_sqldf"
     ]
    },
    "pythonIndentUnit": 4
   },
   "notebookName": "DeltaCache",
   "widgets": {}
  }
 },
 "nbformat": 4,
 "nbformat_minor": 0
}
