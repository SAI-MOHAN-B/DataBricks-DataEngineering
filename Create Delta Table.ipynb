{
 "cells": [
  {
   "cell_type": "code",
   "execution_count": 0,
   "metadata": {
    "application/vnd.databricks.v1+cell": {
     "cellMetadata": {
      "byteLimit": 2048000,
      "rowLimit": 10000
     },
     "inputWidgets": {},
     "nuid": "035015ff-fb56-4324-8ac7-9399f35677b3",
     "showTitle": false,
     "title": ""
    }
   },
   "outputs": [],
   "source": [
    "from delta.tables import *"
   ]
  },
  {
   "cell_type": "code",
   "execution_count": 0,
   "metadata": {
    "application/vnd.databricks.v1+cell": {
     "cellMetadata": {
      "byteLimit": 2048000,
      "rowLimit": 10000
     },
     "inputWidgets": {},
     "nuid": "45f00f84-7aaf-4315-bf0c-f1cb710ab48c",
     "showTitle": false,
     "title": ""
    }
   },
   "outputs": [
    {
     "output_type": "stream",
     "name": "stdout",
     "output_type": "stream",
     "text": [
      "Out[2]: <delta.tables.DeltaTable at 0x7f20e8c6eaf0>"
     ]
    }
   ],
   "source": [
    "DeltaTable.create(spark) \\\n",
    "    .tableName(\"delta_internal_demo\") \\\n",
    "    .addColumn(\"emp_id\",\"INT\") \\\n",
    "    .addColumn(\"emp_name\",\"STRING\") \\\n",
    "    .addColumn(\"gender\",\"STRING\") \\\n",
    "    .addColumn(\"salary\",\"INT\") \\\n",
    "    .addColumn(\"Dept\",\"STRING\")\\\n",
    "    .property(\"description\",\"table created for demo purpose\")\\\n",
    "    .location(\"/FileStore/tables/delta/arch_demo\")\\\n",
    "    .execute()"
   ]
  },
  {
   "cell_type": "code",
   "execution_count": 0,
   "metadata": {
    "application/vnd.databricks.v1+cell": {
     "cellMetadata": {
      "byteLimit": 2048000,
      "rowLimit": 10000
     },
     "inputWidgets": {},
     "nuid": "ce912423-499e-4697-895e-c70688766ad7",
     "showTitle": false,
     "title": ""
    }
   },
   "outputs": [
    {
     "output_type": "display_data",
     "data": {
      "text/html": [
       "<style scoped>\n",
       "  .table-result-container {\n",
       "    max-height: 300px;\n",
       "    overflow: auto;\n",
       "  }\n",
       "  table, th, td {\n",
       "    border: 1px solid black;\n",
       "    border-collapse: collapse;\n",
       "  }\n",
       "  th, td {\n",
       "    padding: 5px;\n",
       "  }\n",
       "  th {\n",
       "    text-align: left;\n",
       "  }\n",
       "</style><div class='table-result-container'><table class='table-result'><thead style='background-color: white'><tr><th>path</th><th>name</th><th>size</th><th>modificationTime</th></tr></thead><tbody><tr><td>dbfs:/FileStore/tables/delta/arch_demo/_delta_log/.s3-optimization-0</td><td>.s3-optimization-0</td><td>0</td><td>1721829181000</td></tr><tr><td>dbfs:/FileStore/tables/delta/arch_demo/_delta_log/.s3-optimization-1</td><td>.s3-optimization-1</td><td>0</td><td>1721829181000</td></tr><tr><td>dbfs:/FileStore/tables/delta/arch_demo/_delta_log/.s3-optimization-2</td><td>.s3-optimization-2</td><td>0</td><td>1721829181000</td></tr><tr><td>dbfs:/FileStore/tables/delta/arch_demo/_delta_log/00000000000000000000.crc</td><td>00000000000000000000.crc</td><td>2233</td><td>1721829202000</td></tr><tr><td>dbfs:/FileStore/tables/delta/arch_demo/_delta_log/00000000000000000000.json</td><td>00000000000000000000.json</td><td>1249</td><td>1721829182000</td></tr><tr><td>dbfs:/FileStore/tables/delta/arch_demo/_delta_log/00000000000000000001.crc</td><td>00000000000000000001.crc</td><td>2881</td><td>1721830119000</td></tr><tr><td>dbfs:/FileStore/tables/delta/arch_demo/_delta_log/00000000000000000001.json</td><td>00000000000000000001.json</td><td>1165</td><td>1721830114000</td></tr><tr><td>dbfs:/FileStore/tables/delta/arch_demo/_delta_log/00000000000000000002.crc</td><td>00000000000000000002.crc</td><td>3531</td><td>1721830687000</td></tr><tr><td>dbfs:/FileStore/tables/delta/arch_demo/_delta_log/00000000000000000002.json</td><td>00000000000000000002.json</td><td>1172</td><td>1721830683000</td></tr><tr><td>dbfs:/FileStore/tables/delta/arch_demo/_delta_log/00000000000000000003.crc</td><td>00000000000000000003.crc</td><td>4177</td><td>1721831179000</td></tr><tr><td>dbfs:/FileStore/tables/delta/arch_demo/_delta_log/00000000000000000003.json</td><td>00000000000000000003.json</td><td>1168</td><td>1721831175000</td></tr><tr><td>dbfs:/FileStore/tables/delta/arch_demo/_delta_log/00000000000000000004.crc</td><td>00000000000000000004.crc</td><td>4837</td><td>1721831182000</td></tr><tr><td>dbfs:/FileStore/tables/delta/arch_demo/_delta_log/00000000000000000004.json</td><td>00000000000000000004.json</td><td>1182</td><td>1721831180000</td></tr><tr><td>dbfs:/FileStore/tables/delta/arch_demo/_delta_log/00000000000000000005.crc</td><td>00000000000000000005.crc</td><td>5507</td><td>1721831186000</td></tr><tr><td>dbfs:/FileStore/tables/delta/arch_demo/_delta_log/00000000000000000005.json</td><td>00000000000000000005.json</td><td>1192</td><td>1721831183000</td></tr><tr><td>dbfs:/FileStore/tables/delta/arch_demo/_delta_log/00000000000000000006.crc</td><td>00000000000000000006.crc</td><td>6177</td><td>1721831190000</td></tr><tr><td>dbfs:/FileStore/tables/delta/arch_demo/_delta_log/00000000000000000006.json</td><td>00000000000000000006.json</td><td>1192</td><td>1721831187000</td></tr><tr><td>dbfs:/FileStore/tables/delta/arch_demo/_delta_log/00000000000000000007.crc</td><td>00000000000000000007.crc</td><td>6841</td><td>1721831193000</td></tr><tr><td>dbfs:/FileStore/tables/delta/arch_demo/_delta_log/00000000000000000007.json</td><td>00000000000000000007.json</td><td>1184</td><td>1721831191000</td></tr><tr><td>dbfs:/FileStore/tables/delta/arch_demo/_delta_log/00000000000000000008.crc</td><td>00000000000000000008.crc</td><td>7487</td><td>1721831254000</td></tr><tr><td>dbfs:/FileStore/tables/delta/arch_demo/_delta_log/00000000000000000008.json</td><td>00000000000000000008.json</td><td>1168</td><td>1721831250000</td></tr><tr><td>dbfs:/FileStore/tables/delta/arch_demo/_delta_log/00000000000000000009.crc</td><td>00000000000000000009.crc</td><td>8147</td><td>1721831257000</td></tr><tr><td>dbfs:/FileStore/tables/delta/arch_demo/_delta_log/00000000000000000009.json</td><td>00000000000000000009.json</td><td>1182</td><td>1721831255000</td></tr><tr><td>dbfs:/FileStore/tables/delta/arch_demo/_delta_log/00000000000000000010.checkpoint.parquet</td><td>00000000000000000010.checkpoint.parquet</td><td>23181</td><td>1721831278000</td></tr><tr><td>dbfs:/FileStore/tables/delta/arch_demo/_delta_log/00000000000000000010.crc</td><td>00000000000000000010.crc</td><td>8819</td><td>1721831276000</td></tr><tr><td>dbfs:/FileStore/tables/delta/arch_demo/_delta_log/00000000000000000010.json</td><td>00000000000000000010.json</td><td>1192</td><td>1721831274000</td></tr><tr><td>dbfs:/FileStore/tables/delta/arch_demo/_delta_log/00000000000000000011.crc</td><td>00000000000000000011.crc</td><td>9481</td><td>1721831286000</td></tr><tr><td>dbfs:/FileStore/tables/delta/arch_demo/_delta_log/00000000000000000011.json</td><td>00000000000000000011.json</td><td>1185</td><td>1721831283000</td></tr><tr><td>dbfs:/FileStore/tables/delta/arch_demo/_delta_log/00000000000000000012.crc</td><td>00000000000000000012.crc</td><td>10151</td><td>1721831293000</td></tr><tr><td>dbfs:/FileStore/tables/delta/arch_demo/_delta_log/00000000000000000012.json</td><td>00000000000000000012.json</td><td>1193</td><td>1721831290000</td></tr><tr><td>dbfs:/FileStore/tables/delta/arch_demo/_delta_log/00000000000000000013.crc</td><td>00000000000000000013.crc</td><td>8831</td><td>1721831389000</td></tr><tr><td>dbfs:/FileStore/tables/delta/arch_demo/_delta_log/00000000000000000013.json</td><td>00000000000000000013.json</td><td>1474</td><td>1721831385000</td></tr><tr><td>dbfs:/FileStore/tables/delta/arch_demo/_delta_log/_last_checkpoint</td><td>_last_checkpoint</td><td>5664</td><td>1721831278000</td></tr></tbody></table></div>"
      ]
     },
     "metadata": {
      "application/vnd.databricks.v1+output": {
       "addedWidgets": {},
       "aggData": [],
       "aggError": "",
       "aggOverflow": false,
       "aggSchema": [],
       "aggSeriesLimitReached": false,
       "aggType": "",
       "arguments": {},
       "columnCustomDisplayInfos": {},
       "data": [
        [
         "dbfs:/FileStore/tables/delta/arch_demo/_delta_log/.s3-optimization-0",
         ".s3-optimization-0",
         0,
         1721829181000
        ],
        [
         "dbfs:/FileStore/tables/delta/arch_demo/_delta_log/.s3-optimization-1",
         ".s3-optimization-1",
         0,
         1721829181000
        ],
        [
         "dbfs:/FileStore/tables/delta/arch_demo/_delta_log/.s3-optimization-2",
         ".s3-optimization-2",
         0,
         1721829181000
        ],
        [
         "dbfs:/FileStore/tables/delta/arch_demo/_delta_log/00000000000000000000.crc",
         "00000000000000000000.crc",
         2233,
         1721829202000
        ],
        [
         "dbfs:/FileStore/tables/delta/arch_demo/_delta_log/00000000000000000000.json",
         "00000000000000000000.json",
         1249,
         1721829182000
        ],
        [
         "dbfs:/FileStore/tables/delta/arch_demo/_delta_log/00000000000000000001.crc",
         "00000000000000000001.crc",
         2881,
         1721830119000
        ],
        [
         "dbfs:/FileStore/tables/delta/arch_demo/_delta_log/00000000000000000001.json",
         "00000000000000000001.json",
         1165,
         1721830114000
        ],
        [
         "dbfs:/FileStore/tables/delta/arch_demo/_delta_log/00000000000000000002.crc",
         "00000000000000000002.crc",
         3531,
         1721830687000
        ],
        [
         "dbfs:/FileStore/tables/delta/arch_demo/_delta_log/00000000000000000002.json",
         "00000000000000000002.json",
         1172,
         1721830683000
        ],
        [
         "dbfs:/FileStore/tables/delta/arch_demo/_delta_log/00000000000000000003.crc",
         "00000000000000000003.crc",
         4177,
         1721831179000
        ],
        [
         "dbfs:/FileStore/tables/delta/arch_demo/_delta_log/00000000000000000003.json",
         "00000000000000000003.json",
         1168,
         1721831175000
        ],
        [
         "dbfs:/FileStore/tables/delta/arch_demo/_delta_log/00000000000000000004.crc",
         "00000000000000000004.crc",
         4837,
         1721831182000
        ],
        [
         "dbfs:/FileStore/tables/delta/arch_demo/_delta_log/00000000000000000004.json",
         "00000000000000000004.json",
         1182,
         1721831180000
        ],
        [
         "dbfs:/FileStore/tables/delta/arch_demo/_delta_log/00000000000000000005.crc",
         "00000000000000000005.crc",
         5507,
         1721831186000
        ],
        [
         "dbfs:/FileStore/tables/delta/arch_demo/_delta_log/00000000000000000005.json",
         "00000000000000000005.json",
         1192,
         1721831183000
        ],
        [
         "dbfs:/FileStore/tables/delta/arch_demo/_delta_log/00000000000000000006.crc",
         "00000000000000000006.crc",
         6177,
         1721831190000
        ],
        [
         "dbfs:/FileStore/tables/delta/arch_demo/_delta_log/00000000000000000006.json",
         "00000000000000000006.json",
         1192,
         1721831187000
        ],
        [
         "dbfs:/FileStore/tables/delta/arch_demo/_delta_log/00000000000000000007.crc",
         "00000000000000000007.crc",
         6841,
         1721831193000
        ],
        [
         "dbfs:/FileStore/tables/delta/arch_demo/_delta_log/00000000000000000007.json",
         "00000000000000000007.json",
         1184,
         1721831191000
        ],
        [
         "dbfs:/FileStore/tables/delta/arch_demo/_delta_log/00000000000000000008.crc",
         "00000000000000000008.crc",
         7487,
         1721831254000
        ],
        [
         "dbfs:/FileStore/tables/delta/arch_demo/_delta_log/00000000000000000008.json",
         "00000000000000000008.json",
         1168,
         1721831250000
        ],
        [
         "dbfs:/FileStore/tables/delta/arch_demo/_delta_log/00000000000000000009.crc",
         "00000000000000000009.crc",
         8147,
         1721831257000
        ],
        [
         "dbfs:/FileStore/tables/delta/arch_demo/_delta_log/00000000000000000009.json",
         "00000000000000000009.json",
         1182,
         1721831255000
        ],
        [
         "dbfs:/FileStore/tables/delta/arch_demo/_delta_log/00000000000000000010.checkpoint.parquet",
         "00000000000000000010.checkpoint.parquet",
         23181,
         1721831278000
        ],
        [
         "dbfs:/FileStore/tables/delta/arch_demo/_delta_log/00000000000000000010.crc",
         "00000000000000000010.crc",
         8819,
         1721831276000
        ],
        [
         "dbfs:/FileStore/tables/delta/arch_demo/_delta_log/00000000000000000010.json",
         "00000000000000000010.json",
         1192,
         1721831274000
        ],
        [
         "dbfs:/FileStore/tables/delta/arch_demo/_delta_log/00000000000000000011.crc",
         "00000000000000000011.crc",
         9481,
         1721831286000
        ],
        [
         "dbfs:/FileStore/tables/delta/arch_demo/_delta_log/00000000000000000011.json",
         "00000000000000000011.json",
         1185,
         1721831283000
        ],
        [
         "dbfs:/FileStore/tables/delta/arch_demo/_delta_log/00000000000000000012.crc",
         "00000000000000000012.crc",
         10151,
         1721831293000
        ],
        [
         "dbfs:/FileStore/tables/delta/arch_demo/_delta_log/00000000000000000012.json",
         "00000000000000000012.json",
         1193,
         1721831290000
        ],
        [
         "dbfs:/FileStore/tables/delta/arch_demo/_delta_log/00000000000000000013.crc",
         "00000000000000000013.crc",
         8831,
         1721831389000
        ],
        [
         "dbfs:/FileStore/tables/delta/arch_demo/_delta_log/00000000000000000013.json",
         "00000000000000000013.json",
         1474,
         1721831385000
        ],
        [
         "dbfs:/FileStore/tables/delta/arch_demo/_delta_log/_last_checkpoint",
         "_last_checkpoint",
         5664,
         1721831278000
        ]
       ],
       "datasetInfos": [],
       "dbfsResultPath": null,
       "isJsonSchema": true,
       "metadata": {
        "isDbfsCommandResult": false
       },
       "overflow": false,
       "plotOptions": {
        "customPlotOptions": {},
        "displayType": "table",
        "pivotAggregation": null,
        "pivotColumns": null,
        "xColumns": null,
        "yColumns": null
       },
       "removedWidgets": [],
       "schema": [
        {
         "metadata": "{}",
         "name": "path",
         "type": "\"string\""
        },
        {
         "metadata": "{}",
         "name": "name",
         "type": "\"string\""
        },
        {
         "metadata": "{}",
         "name": "size",
         "type": "\"long\""
        },
        {
         "metadata": "{}",
         "name": "modificationTime",
         "type": "\"long\""
        }
       ],
       "type": "table"
      }
     },
     "output_type": "display_data"
    }
   ],
   "source": [
    "%fs\n",
    "ls /FileStore/tables/delta/arch_demo/_delta_log/"
   ]
  },
  {
   "cell_type": "code",
   "execution_count": 0,
   "metadata": {
    "application/vnd.databricks.v1+cell": {
     "cellMetadata": {
      "byteLimit": 2048000,
      "rowLimit": 10000
     },
     "inputWidgets": {},
     "nuid": "8ab213c3-f6a5-47a4-8735-f37a9d6abccb",
     "showTitle": false,
     "title": ""
    }
   },
   "outputs": [
    {
     "output_type": "display_data",
     "data": {
      "text/html": [
       "<style scoped>\n",
       "  .ansiout {\n",
       "    display: block;\n",
       "    unicode-bidi: embed;\n",
       "    white-space: pre-wrap;\n",
       "    word-wrap: break-word;\n",
       "    word-break: break-all;\n",
       "    font-family: \"Menlo\", \"Monaco\", \"Consolas\", \"Ubuntu Mono\", \"Source Code Pro\", monospace;\n",
       "    font-size: 13px;\n",
       "    color: #555;\n",
       "    margin-left: 4px;\n",
       "    line-height: 19px;\n",
       "  }\n",
       "</style>\n",
       "<div class=\"ansiout\">{&quot;commitInfo&quot;:{&quot;timestamp&quot;:1721831384021,&quot;userId&quot;:&quot;2432472775055554&quot;,&quot;userName&quot;:&quot;bmohan048@gmail.com&quot;,&quot;operation&quot;:&quot;DELETE&quot;,&quot;operationParameters&quot;:{&quot;predicate&quot;:&quot;[\\&quot;(emp_id#9689 = 402)\\&quot;]&quot;},&quot;notebook&quot;:{&quot;notebookId&quot;:&quot;2579070392136648&quot;},&quot;clusterId&quot;:&quot;0724-134612-8yjg817k&quot;,&quot;readVersion&quot;:12,&quot;isolationLevel&quot;:&quot;WriteSerializable&quot;,&quot;isBlindAppend&quot;:false,&quot;operationMetrics&quot;:{&quot;numRemovedFiles&quot;:&quot;2&quot;,&quot;numRemovedBytes&quot;:&quot;3152&quot;,&quot;numCopiedRows&quot;:&quot;0&quot;,&quot;numDeletionVectorsAdded&quot;:&quot;0&quot;,&quot;numDeletionVectorsRemoved&quot;:&quot;0&quot;,&quot;numAddedChangeFiles&quot;:&quot;0&quot;,&quot;executionTimeMs&quot;:&quot;2968&quot;,&quot;numDeletedRows&quot;:&quot;2&quot;,&quot;scanTimeMs&quot;:&quot;1818&quot;,&quot;numAddedFiles&quot;:&quot;0&quot;,&quot;numAddedBytes&quot;:&quot;0&quot;,&quot;rewriteTimeMs&quot;:&quot;1097&quot;},&quot;engineInfo&quot;:&quot;Databricks-Runtime/12.2.x-scala2.12&quot;,&quot;txnId&quot;:&quot;bec1b6c5-7ac4-4233-aa7c-ced89640d0a3&quot;}}\n",
       "{&quot;remove&quot;:{&quot;path&quot;:&quot;part-00000-c9151ec9-48f8-4c70-9af5-77c54f7ae228-c000.snappy.parquet&quot;,&quot;deletionTimestamp&quot;:1721831384011,&quot;dataChange&quot;:true,&quot;extendedFileMetadata&quot;:true,&quot;partitionValues&quot;:{},&quot;size&quot;:1576,&quot;tags&quot;:{&quot;INSERTION_TIME&quot;:&quot;1721831179000000&quot;,&quot;MIN_INSERTION_TIME&quot;:&quot;1721831179000000&quot;,&quot;MAX_INSERTION_TIME&quot;:&quot;1721831179000000&quot;,&quot;OPTIMIZE_TARGET_SIZE&quot;:&quot;268435456&quot;}}}\n",
       "{&quot;remove&quot;:{&quot;path&quot;:&quot;part-00000-ec1ade27-c8db-4e35-8592-a88632b5ca21-c000.snappy.parquet&quot;,&quot;deletionTimestamp&quot;:1721831384011,&quot;dataChange&quot;:true,&quot;extendedFileMetadata&quot;:true,&quot;partitionValues&quot;:{},&quot;size&quot;:1576,&quot;tags&quot;:{&quot;INSERTION_TIME&quot;:&quot;1721831254000000&quot;,&quot;MIN_INSERTION_TIME&quot;:&quot;1721831254000000&quot;,&quot;MAX_INSERTION_TIME&quot;:&quot;1721831254000000&quot;,&quot;OPTIMIZE_TARGET_SIZE&quot;:&quot;268435456&quot;}}}\n",
       "\n",
       "</div>"
      ]
     },
     "metadata": {
      "application/vnd.databricks.v1+output": {
       "addedWidgets": {},
       "arguments": {},
       "data": "<div class=\"ansiout\">{&quot;commitInfo&quot;:{&quot;timestamp&quot;:1721831384021,&quot;userId&quot;:&quot;2432472775055554&quot;,&quot;userName&quot;:&quot;bmohan048@gmail.com&quot;,&quot;operation&quot;:&quot;DELETE&quot;,&quot;operationParameters&quot;:{&quot;predicate&quot;:&quot;[\\&quot;(emp_id#9689 = 402)\\&quot;]&quot;},&quot;notebook&quot;:{&quot;notebookId&quot;:&quot;2579070392136648&quot;},&quot;clusterId&quot;:&quot;0724-134612-8yjg817k&quot;,&quot;readVersion&quot;:12,&quot;isolationLevel&quot;:&quot;WriteSerializable&quot;,&quot;isBlindAppend&quot;:false,&quot;operationMetrics&quot;:{&quot;numRemovedFiles&quot;:&quot;2&quot;,&quot;numRemovedBytes&quot;:&quot;3152&quot;,&quot;numCopiedRows&quot;:&quot;0&quot;,&quot;numDeletionVectorsAdded&quot;:&quot;0&quot;,&quot;numDeletionVectorsRemoved&quot;:&quot;0&quot;,&quot;numAddedChangeFiles&quot;:&quot;0&quot;,&quot;executionTimeMs&quot;:&quot;2968&quot;,&quot;numDeletedRows&quot;:&quot;2&quot;,&quot;scanTimeMs&quot;:&quot;1818&quot;,&quot;numAddedFiles&quot;:&quot;0&quot;,&quot;numAddedBytes&quot;:&quot;0&quot;,&quot;rewriteTimeMs&quot;:&quot;1097&quot;},&quot;engineInfo&quot;:&quot;Databricks-Runtime/12.2.x-scala2.12&quot;,&quot;txnId&quot;:&quot;bec1b6c5-7ac4-4233-aa7c-ced89640d0a3&quot;}}\n{&quot;remove&quot;:{&quot;path&quot;:&quot;part-00000-c9151ec9-48f8-4c70-9af5-77c54f7ae228-c000.snappy.parquet&quot;,&quot;deletionTimestamp&quot;:1721831384011,&quot;dataChange&quot;:true,&quot;extendedFileMetadata&quot;:true,&quot;partitionValues&quot;:{},&quot;size&quot;:1576,&quot;tags&quot;:{&quot;INSERTION_TIME&quot;:&quot;1721831179000000&quot;,&quot;MIN_INSERTION_TIME&quot;:&quot;1721831179000000&quot;,&quot;MAX_INSERTION_TIME&quot;:&quot;1721831179000000&quot;,&quot;OPTIMIZE_TARGET_SIZE&quot;:&quot;268435456&quot;}}}\n{&quot;remove&quot;:{&quot;path&quot;:&quot;part-00000-ec1ade27-c8db-4e35-8592-a88632b5ca21-c000.snappy.parquet&quot;,&quot;deletionTimestamp&quot;:1721831384011,&quot;dataChange&quot;:true,&quot;extendedFileMetadata&quot;:true,&quot;partitionValues&quot;:{},&quot;size&quot;:1576,&quot;tags&quot;:{&quot;INSERTION_TIME&quot;:&quot;1721831254000000&quot;,&quot;MIN_INSERTION_TIME&quot;:&quot;1721831254000000&quot;,&quot;MAX_INSERTION_TIME&quot;:&quot;1721831254000000&quot;,&quot;OPTIMIZE_TARGET_SIZE&quot;:&quot;268435456&quot;}}}\n\n</div>",
       "datasetInfos": [],
       "metadata": {
        "isDbfsCommandResult": false
       },
       "removedWidgets": [],
       "type": "html"
      }
     },
     "output_type": "display_data"
    }
   ],
   "source": [
    "%fs\n",
    "head dbfs:/FileStore/tables/delta/arch_demo/_delta_log/00000000000000000013.json"
   ]
  },
  {
   "cell_type": "code",
   "execution_count": 0,
   "metadata": {
    "application/vnd.databricks.v1+cell": {
     "cellMetadata": {
      "byteLimit": 2048000,
      "implicitDf": true,
      "rowLimit": 10000
     },
     "inputWidgets": {},
     "nuid": "3839d936-0126-4da7-a944-a5cca69d9b17",
     "showTitle": false,
     "title": ""
    }
   },
   "outputs": [
    {
     "output_type": "display_data",
     "data": {
      "text/html": [
       "<style scoped>\n",
       "  .table-result-container {\n",
       "    max-height: 300px;\n",
       "    overflow: auto;\n",
       "  }\n",
       "  table, th, td {\n",
       "    border: 1px solid black;\n",
       "    border-collapse: collapse;\n",
       "  }\n",
       "  th, td {\n",
       "    padding: 5px;\n",
       "  }\n",
       "  th {\n",
       "    text-align: left;\n",
       "  }\n",
       "</style><div class='table-result-container'><table class='table-result'><thead style='background-color: white'><tr><th>emp_id</th><th>emp_name</th><th>gender</th><th>salary</th><th>Dept</th></tr></thead><tbody><tr><td>404</td><td>bob williams</td><td>M</td><td>5500</td><td>Operations</td></tr><tr><td>404</td><td>bob williams</td><td>M</td><td>5500</td><td>Operations</td></tr><tr><td>403</td><td>alice johnson</td><td>F</td><td>8000</td><td>Marketing</td></tr><tr><td>403</td><td>alice johnson</td><td>F</td><td>8000</td><td>Marketing</td></tr><tr><td>100</td><td>stephen</td><td>M</td><td>2000</td><td>IT</td></tr><tr><td>200</td><td>steve</td><td>M</td><td>3000</td><td>NON-IT</td></tr><tr><td>300</td><td>mark</td><td>M</td><td>4000</td><td>NON-IT</td></tr><tr><td>405</td><td>charlie brown</td><td>M</td><td>6500</td><td>Sales</td></tr><tr><td>405</td><td>charlie brown</td><td>M</td><td>6500</td><td>Sales</td></tr><tr><td>400</td><td>mark zuker</td><td>M</td><td>5000</td><td>IT</td></tr><tr><td>401</td><td>john doe</td><td>M</td><td>6000</td><td>HR</td></tr><tr><td>401</td><td>john doe</td><td>M</td><td>6000</td><td>HR</td></tr></tbody></table></div>"
      ]
     },
     "metadata": {
      "application/vnd.databricks.v1+output": {
       "addedWidgets": {},
       "aggData": [],
       "aggError": "",
       "aggOverflow": false,
       "aggSchema": [],
       "aggSeriesLimitReached": false,
       "aggType": "",
       "arguments": {},
       "columnCustomDisplayInfos": {},
       "data": [
        [
         404,
         "bob williams",
         "M",
         5500,
         "Operations"
        ],
        [
         404,
         "bob williams",
         "M",
         5500,
         "Operations"
        ],
        [
         403,
         "alice johnson",
         "F",
         8000,
         "Marketing"
        ],
        [
         403,
         "alice johnson",
         "F",
         8000,
         "Marketing"
        ],
        [
         100,
         "stephen",
         "M",
         2000,
         "IT"
        ],
        [
         200,
         "steve",
         "M",
         3000,
         "NON-IT"
        ],
        [
         300,
         "mark",
         "M",
         4000,
         "NON-IT"
        ],
        [
         405,
         "charlie brown",
         "M",
         6500,
         "Sales"
        ],
        [
         405,
         "charlie brown",
         "M",
         6500,
         "Sales"
        ],
        [
         400,
         "mark zuker",
         "M",
         5000,
         "IT"
        ],
        [
         401,
         "john doe",
         "M",
         6000,
         "HR"
        ],
        [
         401,
         "john doe",
         "M",
         6000,
         "HR"
        ]
       ],
       "datasetInfos": [],
       "dbfsResultPath": null,
       "isJsonSchema": true,
       "metadata": {},
       "overflow": false,
       "plotOptions": {
        "customPlotOptions": {},
        "displayType": "table",
        "pivotAggregation": null,
        "pivotColumns": null,
        "xColumns": null,
        "yColumns": null
       },
       "removedWidgets": [],
       "schema": [
        {
         "metadata": "{}",
         "name": "emp_id",
         "type": "\"integer\""
        },
        {
         "metadata": "{}",
         "name": "emp_name",
         "type": "\"string\""
        },
        {
         "metadata": "{}",
         "name": "gender",
         "type": "\"string\""
        },
        {
         "metadata": "{}",
         "name": "salary",
         "type": "\"integer\""
        },
        {
         "metadata": "{}",
         "name": "Dept",
         "type": "\"string\""
        }
       ],
       "type": "table"
      }
     },
     "output_type": "display_data"
    }
   ],
   "source": [
    "%sql \n",
    "select * from delta_internal_demo"
   ]
  },
  {
   "cell_type": "code",
   "execution_count": 0,
   "metadata": {
    "application/vnd.databricks.v1+cell": {
     "cellMetadata": {
      "byteLimit": 2048000,
      "implicitDf": true,
      "rowLimit": 10000
     },
     "inputWidgets": {},
     "nuid": "ef3d763e-606b-4efb-b443-c9a9ead59700",
     "showTitle": false,
     "title": ""
    }
   },
   "outputs": [
    {
     "output_type": "display_data",
     "data": {
      "text/html": [
       "<style scoped>\n",
       "  .table-result-container {\n",
       "    max-height: 300px;\n",
       "    overflow: auto;\n",
       "  }\n",
       "  table, th, td {\n",
       "    border: 1px solid black;\n",
       "    border-collapse: collapse;\n",
       "  }\n",
       "  th, td {\n",
       "    padding: 5px;\n",
       "  }\n",
       "  th {\n",
       "    text-align: left;\n",
       "  }\n",
       "</style><div class='table-result-container'><table class='table-result'><thead style='background-color: white'><tr><th>num_affected_rows</th><th>num_inserted_rows</th></tr></thead><tbody><tr><td>3</td><td>3</td></tr></tbody></table></div>"
      ]
     },
     "metadata": {
      "application/vnd.databricks.v1+output": {
       "addedWidgets": {},
       "aggData": [],
       "aggError": "",
       "aggOverflow": false,
       "aggSchema": [],
       "aggSeriesLimitReached": false,
       "aggType": "",
       "arguments": {},
       "columnCustomDisplayInfos": {},
       "data": [
        [
         3,
         3
        ]
       ],
       "datasetInfos": [],
       "dbfsResultPath": null,
       "isJsonSchema": true,
       "metadata": {},
       "overflow": false,
       "plotOptions": {
        "customPlotOptions": {},
        "displayType": "table",
        "pivotAggregation": null,
        "pivotColumns": null,
        "xColumns": null,
        "yColumns": null
       },
       "removedWidgets": [],
       "schema": [
        {
         "metadata": "{}",
         "name": "num_affected_rows",
         "type": "\"long\""
        },
        {
         "metadata": "{}",
         "name": "num_inserted_rows",
         "type": "\"long\""
        }
       ],
       "type": "table"
      }
     },
     "output_type": "display_data"
    }
   ],
   "source": [
    "%sql\n",
    "insert into delta_internal_demo values(100,\"stephen\",\"M\",2000,\"IT\"),(200,\"steve\",\"M\",3000,\"NON-IT\"),(300,\"mark\",\"M\",4000,\"NON-IT\")"
   ]
  },
  {
   "cell_type": "code",
   "execution_count": 0,
   "metadata": {
    "application/vnd.databricks.v1+cell": {
     "cellMetadata": {
      "byteLimit": 2048000,
      "implicitDf": true,
      "rowLimit": 10000
     },
     "inputWidgets": {},
     "nuid": "b8c202ad-405c-4a59-9610-fd6ecedbcb71",
     "showTitle": false,
     "title": ""
    }
   },
   "outputs": [
    {
     "output_type": "display_data",
     "data": {
      "text/html": [
       "<style scoped>\n",
       "  .table-result-container {\n",
       "    max-height: 300px;\n",
       "    overflow: auto;\n",
       "  }\n",
       "  table, th, td {\n",
       "    border: 1px solid black;\n",
       "    border-collapse: collapse;\n",
       "  }\n",
       "  th, td {\n",
       "    padding: 5px;\n",
       "  }\n",
       "  th {\n",
       "    text-align: left;\n",
       "  }\n",
       "</style><div class='table-result-container'><table class='table-result'><thead style='background-color: white'><tr><th>num_affected_rows</th><th>num_inserted_rows</th></tr></thead><tbody><tr><td>1</td><td>1</td></tr></tbody></table></div>"
      ]
     },
     "metadata": {
      "application/vnd.databricks.v1+output": {
       "addedWidgets": {},
       "aggData": [],
       "aggError": "",
       "aggOverflow": false,
       "aggSchema": [],
       "aggSeriesLimitReached": false,
       "aggType": "",
       "arguments": {},
       "columnCustomDisplayInfos": {},
       "data": [
        [
         1,
         1
        ]
       ],
       "datasetInfos": [],
       "dbfsResultPath": null,
       "isJsonSchema": true,
       "metadata": {},
       "overflow": false,
       "plotOptions": {
        "customPlotOptions": {},
        "displayType": "table",
        "pivotAggregation": null,
        "pivotColumns": null,
        "xColumns": null,
        "yColumns": null
       },
       "removedWidgets": [],
       "schema": [
        {
         "metadata": "{}",
         "name": "num_affected_rows",
         "type": "\"long\""
        },
        {
         "metadata": "{}",
         "name": "num_inserted_rows",
         "type": "\"long\""
        }
       ],
       "type": "table"
      }
     },
     "output_type": "display_data"
    }
   ],
   "source": [
    "%sql\n",
    "insert into delta_internal_demo values(400,\"mark zuker\",\"M\",5000,\"IT\")"
   ]
  },
  {
   "cell_type": "code",
   "execution_count": 0,
   "metadata": {
    "application/vnd.databricks.v1+cell": {
     "cellMetadata": {
      "byteLimit": 2048000,
      "implicitDf": true,
      "rowLimit": 10000
     },
     "inputWidgets": {},
     "nuid": "601a547d-d0bf-4228-90f3-f3e2b121c007",
     "showTitle": false,
     "title": ""
    }
   },
   "outputs": [
    {
     "output_type": "display_data",
     "data": {
      "text/html": [
       "<style scoped>\n",
       "  .table-result-container {\n",
       "    max-height: 300px;\n",
       "    overflow: auto;\n",
       "  }\n",
       "  table, th, td {\n",
       "    border: 1px solid black;\n",
       "    border-collapse: collapse;\n",
       "  }\n",
       "  th, td {\n",
       "    padding: 5px;\n",
       "  }\n",
       "  th {\n",
       "    text-align: left;\n",
       "  }\n",
       "</style><div class='table-result-container'><table class='table-result'><thead style='background-color: white'><tr><th>num_affected_rows</th><th>num_inserted_rows</th></tr></thead><tbody><tr><td>1</td><td>1</td></tr></tbody></table></div>"
      ]
     },
     "metadata": {
      "application/vnd.databricks.v1+output": {
       "addedWidgets": {},
       "aggData": [],
       "aggError": "",
       "aggOverflow": false,
       "aggSchema": [],
       "aggSeriesLimitReached": false,
       "aggType": "",
       "arguments": {},
       "columnCustomDisplayInfos": {},
       "data": [
        [
         1,
         1
        ]
       ],
       "datasetInfos": [],
       "dbfsResultPath": null,
       "isJsonSchema": true,
       "metadata": {},
       "overflow": false,
       "plotOptions": {
        "customPlotOptions": {},
        "displayType": "table",
        "pivotAggregation": null,
        "pivotColumns": null,
        "xColumns": null,
        "yColumns": null
       },
       "removedWidgets": [],
       "schema": [
        {
         "metadata": "{}",
         "name": "num_affected_rows",
         "type": "\"long\""
        },
        {
         "metadata": "{}",
         "name": "num_inserted_rows",
         "type": "\"long\""
        }
       ],
       "type": "table"
      }
     },
     "output_type": "display_data"
    }
   ],
   "source": [
    "%sql\n",
    "INSERT INTO delta_internal_demo VALUES (401, \"john doe\", \"M\", 6000, \"HR\");\n",
    "INSERT INTO delta_internal_demo VALUES (402, \"jane smith\", \"F\", 7000, \"Finance\");\n",
    "INSERT INTO delta_internal_demo VALUES (403, \"alice johnson\", \"F\", 8000, \"Marketing\");\n",
    "INSERT INTO delta_internal_demo VALUES (404, \"bob williams\", \"M\", 5500, \"Operations\");\n",
    "INSERT INTO delta_internal_demo VALUES (405, \"charlie brown\", \"M\", 6500, \"Sales\");\n"
   ]
  },
  {
   "cell_type": "code",
   "execution_count": 0,
   "metadata": {
    "application/vnd.databricks.v1+cell": {
     "cellMetadata": {
      "byteLimit": 2048000,
      "implicitDf": true,
      "rowLimit": 10000
     },
     "inputWidgets": {},
     "nuid": "275bbcb9-3e26-4487-910c-3b6aa37e6d50",
     "showTitle": false,
     "title": ""
    }
   },
   "outputs": [
    {
     "output_type": "display_data",
     "data": {
      "text/html": [
       "<style scoped>\n",
       "  .table-result-container {\n",
       "    max-height: 300px;\n",
       "    overflow: auto;\n",
       "  }\n",
       "  table, th, td {\n",
       "    border: 1px solid black;\n",
       "    border-collapse: collapse;\n",
       "  }\n",
       "  th, td {\n",
       "    padding: 5px;\n",
       "  }\n",
       "  th {\n",
       "    text-align: left;\n",
       "  }\n",
       "</style><div class='table-result-container'><table class='table-result'><thead style='background-color: white'><tr><th>num_affected_rows</th><th>num_inserted_rows</th></tr></thead><tbody><tr><td>1</td><td>1</td></tr></tbody></table></div>"
      ]
     },
     "metadata": {
      "application/vnd.databricks.v1+output": {
       "addedWidgets": {},
       "aggData": [],
       "aggError": "",
       "aggOverflow": false,
       "aggSchema": [],
       "aggSeriesLimitReached": false,
       "aggType": "",
       "arguments": {},
       "columnCustomDisplayInfos": {},
       "data": [
        [
         1,
         1
        ]
       ],
       "datasetInfos": [],
       "dbfsResultPath": null,
       "isJsonSchema": true,
       "metadata": {},
       "overflow": false,
       "plotOptions": {
        "customPlotOptions": {},
        "displayType": "table",
        "pivotAggregation": null,
        "pivotColumns": null,
        "xColumns": null,
        "yColumns": null
       },
       "removedWidgets": [],
       "schema": [
        {
         "metadata": "{}",
         "name": "num_affected_rows",
         "type": "\"long\""
        },
        {
         "metadata": "{}",
         "name": "num_inserted_rows",
         "type": "\"long\""
        }
       ],
       "type": "table"
      }
     },
     "output_type": "display_data"
    }
   ],
   "source": [
    "%sql\n",
    "INSERT INTO delta_internal_demo VALUES (401, \"john doe\", \"M\", 6000, \"HR\");\n",
    "INSERT INTO delta_internal_demo VALUES (402, \"jane smith\", \"F\", 7000, \"Finance\");\n",
    "\n"
   ]
  },
  {
   "cell_type": "code",
   "execution_count": 0,
   "metadata": {
    "application/vnd.databricks.v1+cell": {
     "cellMetadata": {
      "byteLimit": 2048000,
      "implicitDf": true,
      "rowLimit": 10000
     },
     "inputWidgets": {},
     "nuid": "1c5df0fb-d403-491e-957d-7084e479711c",
     "showTitle": false,
     "title": ""
    }
   },
   "outputs": [
    {
     "output_type": "display_data",
     "data": {
      "text/html": [
       "<style scoped>\n",
       "  .table-result-container {\n",
       "    max-height: 300px;\n",
       "    overflow: auto;\n",
       "  }\n",
       "  table, th, td {\n",
       "    border: 1px solid black;\n",
       "    border-collapse: collapse;\n",
       "  }\n",
       "  th, td {\n",
       "    padding: 5px;\n",
       "  }\n",
       "  th {\n",
       "    text-align: left;\n",
       "  }\n",
       "</style><div class='table-result-container'><table class='table-result'><thead style='background-color: white'><tr><th>num_affected_rows</th><th>num_inserted_rows</th></tr></thead><tbody><tr><td>1</td><td>1</td></tr></tbody></table></div>"
      ]
     },
     "metadata": {
      "application/vnd.databricks.v1+output": {
       "addedWidgets": {},
       "aggData": [],
       "aggError": "",
       "aggOverflow": false,
       "aggSchema": [],
       "aggSeriesLimitReached": false,
       "aggType": "",
       "arguments": {},
       "columnCustomDisplayInfos": {},
       "data": [
        [
         1,
         1
        ]
       ],
       "datasetInfos": [],
       "dbfsResultPath": null,
       "isJsonSchema": true,
       "metadata": {},
       "overflow": false,
       "plotOptions": {
        "customPlotOptions": {},
        "displayType": "table",
        "pivotAggregation": null,
        "pivotColumns": null,
        "xColumns": null,
        "yColumns": null
       },
       "removedWidgets": [],
       "schema": [
        {
         "metadata": "{}",
         "name": "num_affected_rows",
         "type": "\"long\""
        },
        {
         "metadata": "{}",
         "name": "num_inserted_rows",
         "type": "\"long\""
        }
       ],
       "type": "table"
      }
     },
     "output_type": "display_data"
    }
   ],
   "source": [
    "%sql\n",
    "INSERT INTO delta_internal_demo VALUES (403, \"alice johnson\", \"F\", 8000, \"Marketing\");\n"
   ]
  },
  {
   "cell_type": "code",
   "execution_count": 0,
   "metadata": {
    "application/vnd.databricks.v1+cell": {
     "cellMetadata": {
      "byteLimit": 2048000,
      "implicitDf": true,
      "rowLimit": 10000
     },
     "inputWidgets": {},
     "nuid": "402f2a07-d614-404b-a431-7f18433fe9f7",
     "showTitle": false,
     "title": ""
    }
   },
   "outputs": [
    {
     "output_type": "display_data",
     "data": {
      "text/html": [
       "<style scoped>\n",
       "  .table-result-container {\n",
       "    max-height: 300px;\n",
       "    overflow: auto;\n",
       "  }\n",
       "  table, th, td {\n",
       "    border: 1px solid black;\n",
       "    border-collapse: collapse;\n",
       "  }\n",
       "  th, td {\n",
       "    padding: 5px;\n",
       "  }\n",
       "  th {\n",
       "    text-align: left;\n",
       "  }\n",
       "</style><div class='table-result-container'><table class='table-result'><thead style='background-color: white'><tr><th>num_affected_rows</th><th>num_inserted_rows</th></tr></thead><tbody><tr><td>1</td><td>1</td></tr></tbody></table></div>"
      ]
     },
     "metadata": {
      "application/vnd.databricks.v1+output": {
       "addedWidgets": {},
       "aggData": [],
       "aggError": "",
       "aggOverflow": false,
       "aggSchema": [],
       "aggSeriesLimitReached": false,
       "aggType": "",
       "arguments": {},
       "columnCustomDisplayInfos": {},
       "data": [
        [
         1,
         1
        ]
       ],
       "datasetInfos": [],
       "dbfsResultPath": null,
       "isJsonSchema": true,
       "metadata": {},
       "overflow": false,
       "plotOptions": {
        "customPlotOptions": {},
        "displayType": "table",
        "pivotAggregation": null,
        "pivotColumns": null,
        "xColumns": null,
        "yColumns": null
       },
       "removedWidgets": [],
       "schema": [
        {
         "metadata": "{}",
         "name": "num_affected_rows",
         "type": "\"long\""
        },
        {
         "metadata": "{}",
         "name": "num_inserted_rows",
         "type": "\"long\""
        }
       ],
       "type": "table"
      }
     },
     "output_type": "display_data"
    }
   ],
   "source": [
    "%sql\n",
    "INSERT INTO delta_internal_demo VALUES (404, \"bob williams\", \"M\", 5500, \"Operations\");\n",
    "INSERT INTO delta_internal_demo VALUES (405, \"charlie brown\", \"M\", 6500, \"Sales\");"
   ]
  },
  {
   "cell_type": "code",
   "execution_count": 0,
   "metadata": {
    "application/vnd.databricks.v1+cell": {
     "cellMetadata": {
      "byteLimit": 2048000,
      "implicitDf": true,
      "rowLimit": 10000
     },
     "inputWidgets": {},
     "nuid": "e91ace8a-5dbb-4338-8583-6696e52df85f",
     "showTitle": false,
     "title": ""
    }
   },
   "outputs": [
    {
     "output_type": "display_data",
     "data": {
      "text/html": [
       "<style scoped>\n",
       "  .table-result-container {\n",
       "    max-height: 300px;\n",
       "    overflow: auto;\n",
       "  }\n",
       "  table, th, td {\n",
       "    border: 1px solid black;\n",
       "    border-collapse: collapse;\n",
       "  }\n",
       "  th, td {\n",
       "    padding: 5px;\n",
       "  }\n",
       "  th {\n",
       "    text-align: left;\n",
       "  }\n",
       "</style><div class='table-result-container'><table class='table-result'><thead style='background-color: white'><tr><th>num_affected_rows</th></tr></thead><tbody><tr><td>2</td></tr></tbody></table></div>"
      ]
     },
     "metadata": {
      "application/vnd.databricks.v1+output": {
       "addedWidgets": {},
       "aggData": [],
       "aggError": "",
       "aggOverflow": false,
       "aggSchema": [],
       "aggSeriesLimitReached": false,
       "aggType": "",
       "arguments": {},
       "columnCustomDisplayInfos": {},
       "data": [
        [
         2
        ]
       ],
       "datasetInfos": [],
       "dbfsResultPath": null,
       "isJsonSchema": true,
       "metadata": {},
       "overflow": false,
       "plotOptions": {
        "customPlotOptions": {},
        "displayType": "table",
        "pivotAggregation": null,
        "pivotColumns": null,
        "xColumns": null,
        "yColumns": null
       },
       "removedWidgets": [],
       "schema": [
        {
         "metadata": "{}",
         "name": "num_affected_rows",
         "type": "\"long\""
        }
       ],
       "type": "table"
      }
     },
     "output_type": "display_data"
    }
   ],
   "source": [
    "%sql\n",
    "delete from delta_internal_demo where emp_id = 402;"
   ]
  },
  {
   "cell_type": "code",
   "execution_count": 0,
   "metadata": {
    "application/vnd.databricks.v1+cell": {
     "cellMetadata": {
      "byteLimit": 2048000,
      "rowLimit": 10000
     },
     "inputWidgets": {},
     "nuid": "d0a097a2-290b-4fda-81fa-b5a1ab3db12f",
     "showTitle": false,
     "title": ""
    }
   },
   "outputs": [
    {
     "output_type": "display_data",
     "data": {
      "text/html": [
       "<style scoped>\n",
       "  .table-result-container {\n",
       "    max-height: 300px;\n",
       "    overflow: auto;\n",
       "  }\n",
       "  table, th, td {\n",
       "    border: 1px solid black;\n",
       "    border-collapse: collapse;\n",
       "  }\n",
       "  th, td {\n",
       "    padding: 5px;\n",
       "  }\n",
       "  th {\n",
       "    text-align: left;\n",
       "  }\n",
       "</style><div class='table-result-container'><table class='table-result'><thead style='background-color: white'><tr><th>path</th><th>name</th><th>size</th><th>modificationTime</th></tr></thead><tbody><tr><td>dbfs:/FileStore/tables/delta/arch_demo/_delta_log/.s3-optimization-0</td><td>.s3-optimization-0</td><td>0</td><td>1721829181000</td></tr><tr><td>dbfs:/FileStore/tables/delta/arch_demo/_delta_log/.s3-optimization-1</td><td>.s3-optimization-1</td><td>0</td><td>1721829181000</td></tr><tr><td>dbfs:/FileStore/tables/delta/arch_demo/_delta_log/.s3-optimization-2</td><td>.s3-optimization-2</td><td>0</td><td>1721829181000</td></tr><tr><td>dbfs:/FileStore/tables/delta/arch_demo/_delta_log/00000000000000000000.crc</td><td>00000000000000000000.crc</td><td>2233</td><td>1721829202000</td></tr><tr><td>dbfs:/FileStore/tables/delta/arch_demo/_delta_log/00000000000000000000.json</td><td>00000000000000000000.json</td><td>1249</td><td>1721829182000</td></tr><tr><td>dbfs:/FileStore/tables/delta/arch_demo/_delta_log/00000000000000000001.crc</td><td>00000000000000000001.crc</td><td>2881</td><td>1721830119000</td></tr><tr><td>dbfs:/FileStore/tables/delta/arch_demo/_delta_log/00000000000000000001.json</td><td>00000000000000000001.json</td><td>1165</td><td>1721830114000</td></tr><tr><td>dbfs:/FileStore/tables/delta/arch_demo/_delta_log/00000000000000000002.crc</td><td>00000000000000000002.crc</td><td>3531</td><td>1721830687000</td></tr><tr><td>dbfs:/FileStore/tables/delta/arch_demo/_delta_log/00000000000000000002.json</td><td>00000000000000000002.json</td><td>1172</td><td>1721830683000</td></tr><tr><td>dbfs:/FileStore/tables/delta/arch_demo/_delta_log/00000000000000000003.crc</td><td>00000000000000000003.crc</td><td>4177</td><td>1721831179000</td></tr><tr><td>dbfs:/FileStore/tables/delta/arch_demo/_delta_log/00000000000000000003.json</td><td>00000000000000000003.json</td><td>1168</td><td>1721831175000</td></tr><tr><td>dbfs:/FileStore/tables/delta/arch_demo/_delta_log/00000000000000000004.crc</td><td>00000000000000000004.crc</td><td>4837</td><td>1721831182000</td></tr><tr><td>dbfs:/FileStore/tables/delta/arch_demo/_delta_log/00000000000000000004.json</td><td>00000000000000000004.json</td><td>1182</td><td>1721831180000</td></tr><tr><td>dbfs:/FileStore/tables/delta/arch_demo/_delta_log/00000000000000000005.crc</td><td>00000000000000000005.crc</td><td>5507</td><td>1721831186000</td></tr><tr><td>dbfs:/FileStore/tables/delta/arch_demo/_delta_log/00000000000000000005.json</td><td>00000000000000000005.json</td><td>1192</td><td>1721831183000</td></tr><tr><td>dbfs:/FileStore/tables/delta/arch_demo/_delta_log/00000000000000000006.crc</td><td>00000000000000000006.crc</td><td>6177</td><td>1721831190000</td></tr><tr><td>dbfs:/FileStore/tables/delta/arch_demo/_delta_log/00000000000000000006.json</td><td>00000000000000000006.json</td><td>1192</td><td>1721831187000</td></tr><tr><td>dbfs:/FileStore/tables/delta/arch_demo/_delta_log/00000000000000000007.crc</td><td>00000000000000000007.crc</td><td>6841</td><td>1721831193000</td></tr><tr><td>dbfs:/FileStore/tables/delta/arch_demo/_delta_log/00000000000000000007.json</td><td>00000000000000000007.json</td><td>1184</td><td>1721831191000</td></tr><tr><td>dbfs:/FileStore/tables/delta/arch_demo/_delta_log/00000000000000000008.crc</td><td>00000000000000000008.crc</td><td>7487</td><td>1721831254000</td></tr><tr><td>dbfs:/FileStore/tables/delta/arch_demo/_delta_log/00000000000000000008.json</td><td>00000000000000000008.json</td><td>1168</td><td>1721831250000</td></tr><tr><td>dbfs:/FileStore/tables/delta/arch_demo/_delta_log/00000000000000000009.crc</td><td>00000000000000000009.crc</td><td>8147</td><td>1721831257000</td></tr><tr><td>dbfs:/FileStore/tables/delta/arch_demo/_delta_log/00000000000000000009.json</td><td>00000000000000000009.json</td><td>1182</td><td>1721831255000</td></tr><tr><td>dbfs:/FileStore/tables/delta/arch_demo/_delta_log/00000000000000000010.checkpoint.parquet</td><td>00000000000000000010.checkpoint.parquet</td><td>23181</td><td>1721831278000</td></tr><tr><td>dbfs:/FileStore/tables/delta/arch_demo/_delta_log/00000000000000000010.crc</td><td>00000000000000000010.crc</td><td>8819</td><td>1721831276000</td></tr><tr><td>dbfs:/FileStore/tables/delta/arch_demo/_delta_log/00000000000000000010.json</td><td>00000000000000000010.json</td><td>1192</td><td>1721831274000</td></tr><tr><td>dbfs:/FileStore/tables/delta/arch_demo/_delta_log/00000000000000000011.crc</td><td>00000000000000000011.crc</td><td>9481</td><td>1721831286000</td></tr><tr><td>dbfs:/FileStore/tables/delta/arch_demo/_delta_log/00000000000000000011.json</td><td>00000000000000000011.json</td><td>1185</td><td>1721831283000</td></tr><tr><td>dbfs:/FileStore/tables/delta/arch_demo/_delta_log/00000000000000000012.crc</td><td>00000000000000000012.crc</td><td>10151</td><td>1721831293000</td></tr><tr><td>dbfs:/FileStore/tables/delta/arch_demo/_delta_log/00000000000000000012.json</td><td>00000000000000000012.json</td><td>1193</td><td>1721831290000</td></tr><tr><td>dbfs:/FileStore/tables/delta/arch_demo/_delta_log/00000000000000000013.crc</td><td>00000000000000000013.crc</td><td>8831</td><td>1721831389000</td></tr><tr><td>dbfs:/FileStore/tables/delta/arch_demo/_delta_log/00000000000000000013.json</td><td>00000000000000000013.json</td><td>1474</td><td>1721831385000</td></tr><tr><td>dbfs:/FileStore/tables/delta/arch_demo/_delta_log/_last_checkpoint</td><td>_last_checkpoint</td><td>5664</td><td>1721831278000</td></tr></tbody></table></div>"
      ]
     },
     "metadata": {
      "application/vnd.databricks.v1+output": {
       "addedWidgets": {},
       "aggData": [],
       "aggError": "",
       "aggOverflow": false,
       "aggSchema": [],
       "aggSeriesLimitReached": false,
       "aggType": "",
       "arguments": {},
       "columnCustomDisplayInfos": {},
       "data": [
        [
         "dbfs:/FileStore/tables/delta/arch_demo/_delta_log/.s3-optimization-0",
         ".s3-optimization-0",
         0,
         1721829181000
        ],
        [
         "dbfs:/FileStore/tables/delta/arch_demo/_delta_log/.s3-optimization-1",
         ".s3-optimization-1",
         0,
         1721829181000
        ],
        [
         "dbfs:/FileStore/tables/delta/arch_demo/_delta_log/.s3-optimization-2",
         ".s3-optimization-2",
         0,
         1721829181000
        ],
        [
         "dbfs:/FileStore/tables/delta/arch_demo/_delta_log/00000000000000000000.crc",
         "00000000000000000000.crc",
         2233,
         1721829202000
        ],
        [
         "dbfs:/FileStore/tables/delta/arch_demo/_delta_log/00000000000000000000.json",
         "00000000000000000000.json",
         1249,
         1721829182000
        ],
        [
         "dbfs:/FileStore/tables/delta/arch_demo/_delta_log/00000000000000000001.crc",
         "00000000000000000001.crc",
         2881,
         1721830119000
        ],
        [
         "dbfs:/FileStore/tables/delta/arch_demo/_delta_log/00000000000000000001.json",
         "00000000000000000001.json",
         1165,
         1721830114000
        ],
        [
         "dbfs:/FileStore/tables/delta/arch_demo/_delta_log/00000000000000000002.crc",
         "00000000000000000002.crc",
         3531,
         1721830687000
        ],
        [
         "dbfs:/FileStore/tables/delta/arch_demo/_delta_log/00000000000000000002.json",
         "00000000000000000002.json",
         1172,
         1721830683000
        ],
        [
         "dbfs:/FileStore/tables/delta/arch_demo/_delta_log/00000000000000000003.crc",
         "00000000000000000003.crc",
         4177,
         1721831179000
        ],
        [
         "dbfs:/FileStore/tables/delta/arch_demo/_delta_log/00000000000000000003.json",
         "00000000000000000003.json",
         1168,
         1721831175000
        ],
        [
         "dbfs:/FileStore/tables/delta/arch_demo/_delta_log/00000000000000000004.crc",
         "00000000000000000004.crc",
         4837,
         1721831182000
        ],
        [
         "dbfs:/FileStore/tables/delta/arch_demo/_delta_log/00000000000000000004.json",
         "00000000000000000004.json",
         1182,
         1721831180000
        ],
        [
         "dbfs:/FileStore/tables/delta/arch_demo/_delta_log/00000000000000000005.crc",
         "00000000000000000005.crc",
         5507,
         1721831186000
        ],
        [
         "dbfs:/FileStore/tables/delta/arch_demo/_delta_log/00000000000000000005.json",
         "00000000000000000005.json",
         1192,
         1721831183000
        ],
        [
         "dbfs:/FileStore/tables/delta/arch_demo/_delta_log/00000000000000000006.crc",
         "00000000000000000006.crc",
         6177,
         1721831190000
        ],
        [
         "dbfs:/FileStore/tables/delta/arch_demo/_delta_log/00000000000000000006.json",
         "00000000000000000006.json",
         1192,
         1721831187000
        ],
        [
         "dbfs:/FileStore/tables/delta/arch_demo/_delta_log/00000000000000000007.crc",
         "00000000000000000007.crc",
         6841,
         1721831193000
        ],
        [
         "dbfs:/FileStore/tables/delta/arch_demo/_delta_log/00000000000000000007.json",
         "00000000000000000007.json",
         1184,
         1721831191000
        ],
        [
         "dbfs:/FileStore/tables/delta/arch_demo/_delta_log/00000000000000000008.crc",
         "00000000000000000008.crc",
         7487,
         1721831254000
        ],
        [
         "dbfs:/FileStore/tables/delta/arch_demo/_delta_log/00000000000000000008.json",
         "00000000000000000008.json",
         1168,
         1721831250000
        ],
        [
         "dbfs:/FileStore/tables/delta/arch_demo/_delta_log/00000000000000000009.crc",
         "00000000000000000009.crc",
         8147,
         1721831257000
        ],
        [
         "dbfs:/FileStore/tables/delta/arch_demo/_delta_log/00000000000000000009.json",
         "00000000000000000009.json",
         1182,
         1721831255000
        ],
        [
         "dbfs:/FileStore/tables/delta/arch_demo/_delta_log/00000000000000000010.checkpoint.parquet",
         "00000000000000000010.checkpoint.parquet",
         23181,
         1721831278000
        ],
        [
         "dbfs:/FileStore/tables/delta/arch_demo/_delta_log/00000000000000000010.crc",
         "00000000000000000010.crc",
         8819,
         1721831276000
        ],
        [
         "dbfs:/FileStore/tables/delta/arch_demo/_delta_log/00000000000000000010.json",
         "00000000000000000010.json",
         1192,
         1721831274000
        ],
        [
         "dbfs:/FileStore/tables/delta/arch_demo/_delta_log/00000000000000000011.crc",
         "00000000000000000011.crc",
         9481,
         1721831286000
        ],
        [
         "dbfs:/FileStore/tables/delta/arch_demo/_delta_log/00000000000000000011.json",
         "00000000000000000011.json",
         1185,
         1721831283000
        ],
        [
         "dbfs:/FileStore/tables/delta/arch_demo/_delta_log/00000000000000000012.crc",
         "00000000000000000012.crc",
         10151,
         1721831293000
        ],
        [
         "dbfs:/FileStore/tables/delta/arch_demo/_delta_log/00000000000000000012.json",
         "00000000000000000012.json",
         1193,
         1721831290000
        ],
        [
         "dbfs:/FileStore/tables/delta/arch_demo/_delta_log/00000000000000000013.crc",
         "00000000000000000013.crc",
         8831,
         1721831389000
        ],
        [
         "dbfs:/FileStore/tables/delta/arch_demo/_delta_log/00000000000000000013.json",
         "00000000000000000013.json",
         1474,
         1721831385000
        ],
        [
         "dbfs:/FileStore/tables/delta/arch_demo/_delta_log/_last_checkpoint",
         "_last_checkpoint",
         5664,
         1721831278000
        ]
       ],
       "datasetInfos": [],
       "dbfsResultPath": null,
       "isJsonSchema": true,
       "metadata": {
        "isDbfsCommandResult": false
       },
       "overflow": false,
       "plotOptions": {
        "customPlotOptions": {},
        "displayType": "table",
        "pivotAggregation": null,
        "pivotColumns": null,
        "xColumns": null,
        "yColumns": null
       },
       "removedWidgets": [],
       "schema": [
        {
         "metadata": "{}",
         "name": "path",
         "type": "\"string\""
        },
        {
         "metadata": "{}",
         "name": "name",
         "type": "\"string\""
        },
        {
         "metadata": "{}",
         "name": "size",
         "type": "\"long\""
        },
        {
         "metadata": "{}",
         "name": "modificationTime",
         "type": "\"long\""
        }
       ],
       "type": "table"
      }
     },
     "output_type": "display_data"
    }
   ],
   "source": [
    "%fs\n",
    "ls /FileStore/tables/delta/arch_demo/_delta_log/"
   ]
  },
  {
   "cell_type": "code",
   "execution_count": 0,
   "metadata": {
    "application/vnd.databricks.v1+cell": {
     "cellMetadata": {
      "byteLimit": 2048000,
      "rowLimit": 10000
     },
     "inputWidgets": {},
     "nuid": "23f041d0-02c4-4ba1-9cf4-659a0c737911",
     "showTitle": false,
     "title": ""
    }
   },
   "outputs": [],
   "source": [
    "df = spark.read.format(\"parquet\").load(\"dbfs:/FileStore/tables/delta/arch_demo/_delta_log/00000000000000000010.checkpoint.parquet\")"
   ]
  },
  {
   "cell_type": "code",
   "execution_count": 0,
   "metadata": {
    "application/vnd.databricks.v1+cell": {
     "cellMetadata": {
      "byteLimit": 2048000,
      "rowLimit": 10000
     },
     "inputWidgets": {},
     "nuid": "a122293a-a7be-492d-8e26-1b5810557890",
     "showTitle": false,
     "title": ""
    }
   },
   "outputs": [
    {
     "output_type": "stream",
     "name": "stdout",
     "output_type": "stream",
     "text": [
      "+----+--------------------+------+--------------------+------------------+------------------+\n| txn|                 add|remove|            metaData|          protocol|rowIdHighWaterMark|\n+----+--------------------+------+--------------------+------------------+------------------+\n|null|                null|  null|                null|{1, 2, null, null}|              null|\n|null|                null|  null|{24567dca-8af3-4d...|              null|              null|\n|null|{part-00000-09274...|  null|                null|              null|              null|\n|null|{part-00000-19c3f...|  null|                null|              null|              null|\n|null|{part-00000-2c8fe...|  null|                null|              null|              null|\n|null|{part-00000-55b38...|  null|                null|              null|              null|\n|null|{part-00000-59bc2...|  null|                null|              null|              null|\n|null|{part-00000-63354...|  null|                null|              null|              null|\n|null|{part-00000-b6e83...|  null|                null|              null|              null|\n|null|{part-00000-c9151...|  null|                null|              null|              null|\n|null|{part-00000-cbc51...|  null|                null|              null|              null|\n|null|{part-00000-ec1ad...|  null|                null|              null|              null|\n+----+--------------------+------+--------------------+------------------+------------------+\n\n"
     ]
    }
   ],
   "source": [
    "df.show()"
   ]
  },
  {
   "cell_type": "code",
   "execution_count": 0,
   "metadata": {
    "application/vnd.databricks.v1+cell": {
     "cellMetadata": {},
     "inputWidgets": {},
     "nuid": "128c0649-1293-48e0-9595-d5523a40a951",
     "showTitle": false,
     "title": ""
    }
   },
   "outputs": [],
   "source": []
  }
 ],
 "metadata": {
  "application/vnd.databricks.v1+notebook": {
   "dashboards": [],
   "environmentMetadata": null,
   "language": "python",
   "notebookMetadata": {
    "mostRecentlyExecutedCommandWithImplicitDF": {
     "commandId": 2579070392136661,
     "dataframes": [
      "_sqldf"
     ]
    },
    "pythonIndentUnit": 4
   },
   "notebookName": "Create Delta Table",
   "widgets": {}
  }
 },
 "nbformat": 4,
 "nbformat_minor": 0
}
